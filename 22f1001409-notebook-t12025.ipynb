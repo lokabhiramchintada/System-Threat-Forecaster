{
 "cells": [
  {
   "cell_type": "code",
   "execution_count": 1,
   "id": "b7ed10e1",
   "metadata": {
    "_kg_hide-output": true,
    "execution": {
     "iopub.execute_input": "2025-03-12T17:36:24.765751Z",
     "iopub.status.busy": "2025-03-12T17:36:24.765254Z",
     "iopub.status.idle": "2025-03-12T17:36:28.714498Z",
     "shell.execute_reply": "2025-03-12T17:36:28.713284Z"
    },
    "papermill": {
     "duration": 3.963996,
     "end_time": "2025-03-12T17:36:28.716573",
     "exception": false,
     "start_time": "2025-03-12T17:36:24.752577",
     "status": "completed"
    },
    "tags": []
   },
   "outputs": [],
   "source": [
    "# Import Libraries\n",
    "import pandas as pd\n",
    "import numpy as np\n",
    "import seaborn as sns\n",
    "import matplotlib.pyplot as plt\n",
    "from sklearn.model_selection import train_test_split\n",
    "from sklearn.ensemble import RandomForestClassifier\n",
    "from sklearn.preprocessing import LabelEncoder, StandardScaler,OneHotEncoder, MinMaxScaler, OrdinalEncoder\n",
    "from sklearn.impute import SimpleImputer\n",
    "from sklearn.linear_model import SGDClassifier\n",
    "from sklearn.metrics import accuracy_score"
   ]
  },
  {
   "cell_type": "code",
   "execution_count": 2,
   "id": "826ecdf3",
   "metadata": {
    "execution": {
     "iopub.execute_input": "2025-03-12T17:36:28.735653Z",
     "iopub.status.busy": "2025-03-12T17:36:28.735088Z",
     "iopub.status.idle": "2025-03-12T17:36:31.055038Z",
     "shell.execute_reply": "2025-03-12T17:36:31.053473Z"
    },
    "papermill": {
     "duration": 2.33177,
     "end_time": "2025-03-12T17:36:31.057433",
     "exception": false,
     "start_time": "2025-03-12T17:36:28.725663",
     "status": "completed"
    },
    "tags": []
   },
   "outputs": [],
   "source": [
    "# Load the dataset\n",
    "x_train = pd.read_csv(\"/kaggle/input/System-Threat-Forecaster/train.csv\")\n",
    "x_test = pd.read_csv(\"/kaggle/input/System-Threat-Forecaster/test.csv\")\n",
    "\n"
   ]
  },
  {
   "cell_type": "code",
   "execution_count": 3,
   "id": "63fc1717",
   "metadata": {
    "execution": {
     "iopub.execute_input": "2025-03-12T17:36:31.076578Z",
     "iopub.status.busy": "2025-03-12T17:36:31.076135Z",
     "iopub.status.idle": "2025-03-12T17:36:31.085287Z",
     "shell.execute_reply": "2025-03-12T17:36:31.084136Z"
    },
    "papermill": {
     "duration": 0.021007,
     "end_time": "2025-03-12T17:36:31.087280",
     "exception": false,
     "start_time": "2025-03-12T17:36:31.066273",
     "status": "completed"
    },
    "tags": []
   },
   "outputs": [
    {
     "data": {
      "text/plain": [
       "Index(['MachineID', 'ProductName', 'EngineVersion', 'AppVersion',\n",
       "       'SignatureVersion', 'IsBetaUser', 'RealTimeProtectionState',\n",
       "       'IsPassiveModeEnabled', 'AntivirusConfigID',\n",
       "       'NumAntivirusProductsInstalled', 'NumAntivirusProductsEnabled',\n",
       "       'HasTpm', 'CountryID', 'CityID', 'GeoRegionID', 'LocaleEnglishNameID',\n",
       "       'PlatformType', 'Processor', 'OSVersion', 'OSBuildNumber',\n",
       "       'OSProductSuite', 'OsPlatformSubRelease', 'OSBuildLab',\n",
       "       'SKUEditionName', 'IsSystemProtected', 'AutoSampleSubmissionEnabled',\n",
       "       'SMode', 'IEVersionID', 'FirewallEnabled', 'EnableLUA',\n",
       "       'MDC2FormFactor', 'DeviceFamily', 'OEMNameID', 'OEMModelID',\n",
       "       'ProcessorCoreCount', 'ProcessorManufacturerID', 'ProcessorModelID',\n",
       "       'PrimaryDiskCapacityMB', 'PrimaryDiskType', 'SystemVolumeCapacityMB',\n",
       "       'HasOpticalDiskDrive', 'TotalPhysicalRAMMB', 'ChassisType',\n",
       "       'PrimaryDisplayDiagonalInches', 'PrimaryDisplayResolutionHorizontal',\n",
       "       'PrimaryDisplayResolutionVertical', 'PowerPlatformRole',\n",
       "       'InternalBatteryNumberOfCharges', 'NumericOSVersion', 'OSArchitecture',\n",
       "       'OSBranch', 'OSBuildNumberOnly', 'OSBuildRevisionOnly', 'OSEdition',\n",
       "       'OSSkuFriendlyName', 'OSInstallType', 'OSInstallLanguageID',\n",
       "       'OSUILocaleID', 'AutoUpdateOptionsName', 'IsPortableOS',\n",
       "       'OSGenuineState', 'LicenseActivationChannel', 'IsFlightsDisabled',\n",
       "       'FlightRing', 'FirmwareManufacturerID', 'FirmwareVersionID',\n",
       "       'IsSecureBootEnabled', 'IsVirtualDevice', 'IsTouchEnabled',\n",
       "       'IsPenCapable', 'IsAlwaysOnAlwaysConnectedCapable', 'IsGamer',\n",
       "       'RegionIdentifier', 'DateAS', 'DateOS', 'target'],\n",
       "      dtype='object')"
      ]
     },
     "execution_count": 3,
     "metadata": {},
     "output_type": "execute_result"
    }
   ],
   "source": [
    "x_train.columns"
   ]
  },
  {
   "cell_type": "code",
   "execution_count": 4,
   "id": "bcbf00c5",
   "metadata": {
    "execution": {
     "iopub.execute_input": "2025-03-12T17:36:31.106401Z",
     "iopub.status.busy": "2025-03-12T17:36:31.105960Z",
     "iopub.status.idle": "2025-03-12T17:36:31.112700Z",
     "shell.execute_reply": "2025-03-12T17:36:31.111490Z"
    },
    "papermill": {
     "duration": 0.018225,
     "end_time": "2025-03-12T17:36:31.114367",
     "exception": false,
     "start_time": "2025-03-12T17:36:31.096142",
     "status": "completed"
    },
    "tags": []
   },
   "outputs": [
    {
     "data": {
      "text/plain": [
       "Index(['MachineID', 'ProductName', 'EngineVersion', 'AppVersion',\n",
       "       'SignatureVersion', 'IsBetaUser', 'RealTimeProtectionState',\n",
       "       'IsPassiveModeEnabled', 'AntivirusConfigID',\n",
       "       'NumAntivirusProductsInstalled', 'NumAntivirusProductsEnabled',\n",
       "       'HasTpm', 'CountryID', 'CityID', 'GeoRegionID', 'LocaleEnglishNameID',\n",
       "       'PlatformType', 'Processor', 'OSVersion', 'OSBuildNumber',\n",
       "       'OSProductSuite', 'OsPlatformSubRelease', 'OSBuildLab',\n",
       "       'SKUEditionName', 'IsSystemProtected', 'AutoSampleSubmissionEnabled',\n",
       "       'SMode', 'IEVersionID', 'FirewallEnabled', 'EnableLUA',\n",
       "       'MDC2FormFactor', 'DeviceFamily', 'OEMNameID', 'OEMModelID',\n",
       "       'ProcessorCoreCount', 'ProcessorManufacturerID', 'ProcessorModelID',\n",
       "       'PrimaryDiskCapacityMB', 'PrimaryDiskType', 'SystemVolumeCapacityMB',\n",
       "       'HasOpticalDiskDrive', 'TotalPhysicalRAMMB', 'ChassisType',\n",
       "       'PrimaryDisplayDiagonalInches', 'PrimaryDisplayResolutionHorizontal',\n",
       "       'PrimaryDisplayResolutionVertical', 'PowerPlatformRole',\n",
       "       'InternalBatteryNumberOfCharges', 'NumericOSVersion', 'OSArchitecture',\n",
       "       'OSBranch', 'OSBuildNumberOnly', 'OSBuildRevisionOnly', 'OSEdition',\n",
       "       'OSSkuFriendlyName', 'OSInstallType', 'OSInstallLanguageID',\n",
       "       'OSUILocaleID', 'AutoUpdateOptionsName', 'IsPortableOS',\n",
       "       'OSGenuineState', 'LicenseActivationChannel', 'IsFlightsDisabled',\n",
       "       'FlightRing', 'FirmwareManufacturerID', 'FirmwareVersionID',\n",
       "       'IsSecureBootEnabled', 'IsVirtualDevice', 'IsTouchEnabled',\n",
       "       'IsPenCapable', 'IsAlwaysOnAlwaysConnectedCapable', 'IsGamer',\n",
       "       'RegionIdentifier', 'DateAS', 'DateOS'],\n",
       "      dtype='object')"
      ]
     },
     "execution_count": 4,
     "metadata": {},
     "output_type": "execute_result"
    }
   ],
   "source": [
    "x_test.columns"
   ]
  },
  {
   "cell_type": "code",
   "execution_count": 5,
   "id": "6daf1cc4",
   "metadata": {
    "execution": {
     "iopub.execute_input": "2025-03-12T17:36:31.133911Z",
     "iopub.status.busy": "2025-03-12T17:36:31.133519Z",
     "iopub.status.idle": "2025-03-12T17:36:31.177627Z",
     "shell.execute_reply": "2025-03-12T17:36:31.176091Z"
    },
    "papermill": {
     "duration": 0.056004,
     "end_time": "2025-03-12T17:36:31.179744",
     "exception": false,
     "start_time": "2025-03-12T17:36:31.123740",
     "status": "completed"
    },
    "tags": []
   },
   "outputs": [],
   "source": [
    "# Separate features and target variable\n",
    "x = x_train.drop(\"target\", axis=1)\n",
    "y = x_train[\"target\"]\n"
   ]
  },
  {
   "cell_type": "code",
   "execution_count": 6,
   "id": "e03a3267",
   "metadata": {
    "execution": {
     "iopub.execute_input": "2025-03-12T17:36:31.199637Z",
     "iopub.status.busy": "2025-03-12T17:36:31.199173Z",
     "iopub.status.idle": "2025-03-12T17:36:31.213339Z",
     "shell.execute_reply": "2025-03-12T17:36:31.212112Z"
    },
    "papermill": {
     "duration": 0.025882,
     "end_time": "2025-03-12T17:36:31.214928",
     "exception": false,
     "start_time": "2025-03-12T17:36:31.189046",
     "status": "completed"
    },
    "tags": []
   },
   "outputs": [
    {
     "name": "stdout",
     "output_type": "stream",
     "text": [
      "Unique OS Versions: 7\n"
     ]
    }
   ],
   "source": [
    "# Milestone 1 Q1: Number of unique OS versions\n",
    "unique_os_versions = x_train['OSVersion'].nunique()\n",
    "print(\"Unique OS Versions:\", unique_os_versions)"
   ]
  },
  {
   "cell_type": "code",
   "execution_count": 7,
   "id": "d676fb23",
   "metadata": {
    "execution": {
     "iopub.execute_input": "2025-03-12T17:36:31.235567Z",
     "iopub.status.busy": "2025-03-12T17:36:31.235105Z",
     "iopub.status.idle": "2025-03-12T17:36:31.241490Z",
     "shell.execute_reply": "2025-03-12T17:36:31.240098Z"
    },
    "papermill": {
     "duration": 0.018984,
     "end_time": "2025-03-12T17:36:31.243347",
     "exception": false,
     "start_time": "2025-03-12T17:36:31.224363",
     "status": "completed"
    },
    "tags": []
   },
   "outputs": [
    {
     "name": "stdout",
     "output_type": "stream",
     "text": [
      "Max NumAntivirusProductsInstalled: 5.0\n"
     ]
    }
   ],
   "source": [
    "# Milestone 1 Q2: Maximum value of NumAntivirusProductsInstalled\n",
    "max_antivirus_installed = x_train['NumAntivirusProductsInstalled'].max()\n",
    "print(\"Max NumAntivirusProductsInstalled:\", max_antivirus_installed)"
   ]
  },
  {
   "cell_type": "code",
   "execution_count": 8,
   "id": "7f351860",
   "metadata": {
    "execution": {
     "iopub.execute_input": "2025-03-12T17:36:31.263459Z",
     "iopub.status.busy": "2025-03-12T17:36:31.263010Z",
     "iopub.status.idle": "2025-03-12T17:36:31.282311Z",
     "shell.execute_reply": "2025-03-12T17:36:31.280864Z"
    },
    "papermill": {
     "duration": 0.031837,
     "end_time": "2025-03-12T17:36:31.284503",
     "exception": false,
     "start_time": "2025-03-12T17:36:31.252666",
     "status": "completed"
    },
    "tags": []
   },
   "outputs": [
    {
     "name": "stdout",
     "output_type": "stream",
     "text": [
      "Gamer systems with malware detected: 16294\n"
     ]
    }
   ],
   "source": [
    "# Milestone 1 Q3: Systems owned by gamers where malware was detected\n",
    "gamer_malware_count = x_train[(x_train['IsGamer'] == 1) & (x_train['target'] == 1)].shape[0]\n",
    "print(\"Gamer systems with malware detected:\", gamer_malware_count)"
   ]
  },
  {
   "cell_type": "code",
   "execution_count": 9,
   "id": "39448a8a",
   "metadata": {
    "execution": {
     "iopub.execute_input": "2025-03-12T17:36:31.306246Z",
     "iopub.status.busy": "2025-03-12T17:36:31.305787Z",
     "iopub.status.idle": "2025-03-12T17:36:31.321531Z",
     "shell.execute_reply": "2025-03-12T17:36:31.320179Z"
    },
    "papermill": {
     "duration": 0.028881,
     "end_time": "2025-03-12T17:36:31.323607",
     "exception": false,
     "start_time": "2025-03-12T17:36:31.294726",
     "status": "completed"
    },
    "tags": []
   },
   "outputs": [
    {
     "name": "stdout",
     "output_type": "stream",
     "text": [
      "Most frequent RealTimeProtectionState when IsPassiveModeEnabled == 1: 0.0\n"
     ]
    }
   ],
   "source": [
    "# Milestone 1 Q4: Most frequent RealTimeProtectionState when IsPassiveModeEnabled == 1\n",
    "most_frequent_rtp = x_train[x_train['IsPassiveModeEnabled'] == 1]['RealTimeProtectionState'].mode()[0]\n",
    "print(\"Most frequent RealTimeProtectionState when IsPassiveModeEnabled == 1:\", most_frequent_rtp)\n"
   ]
  },
  {
   "cell_type": "code",
   "execution_count": 10,
   "id": "051c71e6",
   "metadata": {
    "execution": {
     "iopub.execute_input": "2025-03-12T17:36:31.345242Z",
     "iopub.status.busy": "2025-03-12T17:36:31.344791Z",
     "iopub.status.idle": "2025-03-12T17:36:31.374026Z",
     "shell.execute_reply": "2025-03-12T17:36:31.372658Z"
    },
    "papermill": {
     "duration": 0.042475,
     "end_time": "2025-03-12T17:36:31.376249",
     "exception": false,
     "start_time": "2025-03-12T17:36:31.333774",
     "status": "completed"
    },
    "tags": []
   },
   "outputs": [
    {
     "name": "stdout",
     "output_type": "stream",
     "text": [
      "Systems with 1366x768 resolution: 51435\n"
     ]
    }
   ],
   "source": [
    "# Milestone 1 Q5: Count of systems with resolution 1366x768\n",
    "resolution_count = x_train[(x_train['PrimaryDisplayResolutionHorizontal'] == 1366) &\n",
    "                           (x_train['PrimaryDisplayResolutionVertical'] == 768)].shape[0]\n",
    "print(\"Systems with 1366x768 resolution:\", resolution_count)\n"
   ]
  },
  {
   "cell_type": "code",
   "execution_count": 11,
   "id": "f526570c",
   "metadata": {
    "execution": {
     "iopub.execute_input": "2025-03-12T17:36:31.397010Z",
     "iopub.status.busy": "2025-03-12T17:36:31.396673Z",
     "iopub.status.idle": "2025-03-12T17:36:31.403451Z",
     "shell.execute_reply": "2025-03-12T17:36:31.402066Z"
    },
    "papermill": {
     "duration": 0.019337,
     "end_time": "2025-03-12T17:36:31.405309",
     "exception": false,
     "start_time": "2025-03-12T17:36:31.385972",
     "status": "completed"
    },
    "tags": []
   },
   "outputs": [
    {
     "name": "stdout",
     "output_type": "stream",
     "text": [
      "50th percentile of TotalPhysicalRAMMB: 4096.0\n"
     ]
    }
   ],
   "source": [
    "# Milestone 1 Q6: 50th percentile of TotalPhysicalRAMMB\n",
    "ram_50th_percentile = x_train['TotalPhysicalRAMMB'].median()\n",
    "print(\"50th percentile of TotalPhysicalRAMMB:\", ram_50th_percentile)\n"
   ]
  },
  {
   "cell_type": "code",
   "execution_count": 12,
   "id": "4dee830f",
   "metadata": {
    "execution": {
     "iopub.execute_input": "2025-03-12T17:36:31.426368Z",
     "iopub.status.busy": "2025-03-12T17:36:31.425949Z",
     "iopub.status.idle": "2025-03-12T17:36:31.714715Z",
     "shell.execute_reply": "2025-03-12T17:36:31.713150Z"
    },
    "papermill": {
     "duration": 0.301642,
     "end_time": "2025-03-12T17:36:31.716823",
     "exception": false,
     "start_time": "2025-03-12T17:36:31.415181",
     "status": "completed"
    },
    "tags": []
   },
   "outputs": [
    {
     "name": "stdout",
     "output_type": "stream",
     "text": [
      "Dataset Overview:\n",
      "        IsBetaUser  RealTimeProtectionState  IsPassiveModeEnabled  \\\n",
      "count    100000.0             99934.000000         100000.000000   \n",
      "mean          0.0                 6.848430              0.017620   \n",
      "std           0.0                 1.015166              0.131566   \n",
      "min           0.0                 0.000000              0.000000   \n",
      "25%           0.0                 7.000000              0.000000   \n",
      "50%           0.0                 7.000000              0.000000   \n",
      "75%           0.0                 7.000000              0.000000   \n",
      "max           0.0                 8.000000              1.000000   \n",
      "\n",
      "       AntivirusConfigID  NumAntivirusProductsInstalled  \\\n",
      "count       99924.000000                   99924.000000   \n",
      "mean        47975.710440                       1.326528   \n",
      "std         13803.321533                       0.520681   \n",
      "min            39.000000                       1.000000   \n",
      "25%         49480.000000                       1.000000   \n",
      "50%         53447.000000                       1.000000   \n",
      "75%         53447.000000                       2.000000   \n",
      "max         70490.000000                       5.000000   \n",
      "\n",
      "       NumAntivirusProductsEnabled         HasTpm      CountryID  \\\n",
      "count                 99924.000000  100000.000000  100000.000000   \n",
      "mean                      1.018264       0.996780     108.078790   \n",
      "std                       0.155291       0.056654      63.062151   \n",
      "min                       0.000000       0.000000       1.000000   \n",
      "25%                       1.000000       1.000000      51.000000   \n",
      "50%                       1.000000       1.000000      97.000000   \n",
      "75%                       1.000000       1.000000     162.000000   \n",
      "max                       4.000000       1.000000     222.000000   \n",
      "\n",
      "              CityID    GeoRegionID  ...  FirmwareManufacturerID  \\\n",
      "count   99377.000000  100000.000000  ...            99624.000000   \n",
      "mean    81029.938587     169.741630  ...              401.987613   \n",
      "std     48944.027074      89.188929  ...              221.318891   \n",
      "min         7.000000       1.000000  ...                2.000000   \n",
      "25%     36694.000000      89.000000  ...              142.000000   \n",
      "50%     82373.000000     181.000000  ...              500.000000   \n",
      "75%    122835.000000     267.000000  ...              556.000000   \n",
      "max    167957.000000     296.000000  ...             1083.000000   \n",
      "\n",
      "       FirmwareVersionID  IsSecureBootEnabled  IsVirtualDevice  \\\n",
      "count       99666.000000        100000.000000     99980.000000   \n",
      "mean        32942.648044             0.495690         0.003841   \n",
      "std         21151.970827             0.499984         0.061855   \n",
      "min           121.000000             0.000000         0.000000   \n",
      "25%         13020.000000             0.000000         0.000000   \n",
      "50%         33066.000000             0.000000         0.000000   \n",
      "75%         52357.000000             1.000000         0.000000   \n",
      "max         72091.000000             1.000000         1.000000   \n",
      "\n",
      "       IsTouchEnabled   IsPenCapable  IsAlwaysOnAlwaysConnectedCapable  \\\n",
      "count   100000.000000  100000.000000                      99866.000000   \n",
      "mean         0.128470       0.040580                          0.058398   \n",
      "std          0.334614       0.197316                          0.234496   \n",
      "min          0.000000       0.000000                          0.000000   \n",
      "25%          0.000000       0.000000                          0.000000   \n",
      "50%          0.000000       0.000000                          0.000000   \n",
      "75%          0.000000       0.000000                          0.000000   \n",
      "max          1.000000       1.000000                          1.000000   \n",
      "\n",
      "            IsGamer  RegionIdentifier         target  \n",
      "count  99441.000000      99441.000000  100000.000000  \n",
      "mean       0.296668          7.875866       0.505250  \n",
      "std        0.456791          4.562533       0.499975  \n",
      "min        0.000000          1.000000       0.000000  \n",
      "25%        0.000000          3.000000       0.000000  \n",
      "50%        0.000000         10.000000       1.000000  \n",
      "75%        1.000000         11.000000       1.000000  \n",
      "max        1.000000         15.000000       1.000000  \n",
      "\n",
      "[8 rows x 48 columns]\n"
     ]
    }
   ],
   "source": [
    "# Milestone 1 Q 7: Exploratory Data Analysis (EDA)\n",
    "print(\"Dataset Overview:\\n\", x_train.describe())\n"
   ]
  },
  {
   "cell_type": "code",
   "execution_count": 13,
   "id": "cc1cd6bd",
   "metadata": {
    "execution": {
     "iopub.execute_input": "2025-03-12T17:36:31.738401Z",
     "iopub.status.busy": "2025-03-12T17:36:31.737941Z",
     "iopub.status.idle": "2025-03-12T17:36:31.895549Z",
     "shell.execute_reply": "2025-03-12T17:36:31.894104Z"
    },
    "papermill": {
     "duration": 0.170726,
     "end_time": "2025-03-12T17:36:31.897585",
     "exception": false,
     "start_time": "2025-03-12T17:36:31.726859",
     "status": "completed"
    },
    "tags": []
   },
   "outputs": [
    {
     "name": "stdout",
     "output_type": "stream",
     "text": [
      "Missing values:\n",
      " SMode                                 981\n",
      "CityID                                623\n",
      "RegionIdentifier                      559\n",
      "IsGamer                               559\n",
      "InternalBatteryNumberOfCharges        515\n",
      "FirmwareManufacturerID                376\n",
      "FirmwareVersionID                     334\n",
      "IsFlightsDisabled                     326\n",
      "OEMModelID                            228\n",
      "OEMNameID                             212\n",
      "FirewallEnabled                       166\n",
      "TotalPhysicalRAMMB                    151\n",
      "IsAlwaysOnAlwaysConnectedCapable      134\n",
      "OSInstallLanguageID                   113\n",
      "PrimaryDiskCapacityMB                 110\n",
      "SystemVolumeCapacityMB                110\n",
      "IEVersionID                           107\n",
      "ProcessorManufacturerID                85\n",
      "ProcessorModelID                       85\n",
      "ProcessorCoreCount                     85\n",
      "IsSystemProtected                      76\n",
      "NumAntivirusProductsEnabled            76\n",
      "NumAntivirusProductsInstalled          76\n",
      "AntivirusConfigID                      76\n",
      "PrimaryDisplayResolutionHorizontal     72\n",
      "PrimaryDisplayResolutionVertical       72\n",
      "PrimaryDisplayDiagonalInches           72\n",
      "RealTimeProtectionState                66\n",
      "DateOS                                 24\n",
      "PrimaryDiskType                        23\n",
      "IsVirtualDevice                        20\n",
      "EnableLUA                              19\n",
      "ChassisType                             2\n",
      "dtype: int64\n"
     ]
    }
   ],
   "source": [
    "# Missing values\n",
    "missing_values = x_train.isnull().sum().sort_values(ascending=False)\n",
    "print(\"Missing values:\\n\", missing_values[missing_values > 0])\n"
   ]
  },
  {
   "cell_type": "code",
   "execution_count": 14,
   "id": "50b97329",
   "metadata": {
    "execution": {
     "iopub.execute_input": "2025-03-12T17:36:31.919108Z",
     "iopub.status.busy": "2025-03-12T17:36:31.918699Z",
     "iopub.status.idle": "2025-03-12T17:36:32.176105Z",
     "shell.execute_reply": "2025-03-12T17:36:32.174948Z"
    },
    "papermill": {
     "duration": 0.270253,
     "end_time": "2025-03-12T17:36:32.177910",
     "exception": false,
     "start_time": "2025-03-12T17:36:31.907657",
     "status": "completed"
    },
    "tags": []
   },
   "outputs": [
    {
     "data": {
      "image/png": "[encoded data removed]",
      "text/plain": [
       "<Figure size 640x480 with 1 Axes>"
      ]
     },
     "metadata": {},
     "output_type": "display_data"
    }
   ],
   "source": [
    "# Target distribution\n",
    "sns.countplot(x=x_train['target'])\n",
    "plt.title(\"Target Distribution\")\n",
    "plt.show()\n"
   ]
  },
  {
   "cell_type": "code",
   "execution_count": 15,
   "id": "36a76093",
   "metadata": {
    "execution": {
     "iopub.execute_input": "2025-03-12T17:36:32.199781Z",
     "iopub.status.busy": "2025-03-12T17:36:32.199453Z",
     "iopub.status.idle": "2025-03-12T17:36:33.005909Z",
     "shell.execute_reply": "2025-03-12T17:36:33.004740Z"
    },
    "papermill": {
     "duration": 0.819617,
     "end_time": "2025-03-12T17:36:33.007986",
     "exception": false,
     "start_time": "2025-03-12T17:36:32.188369",
     "status": "completed"
    },
    "tags": []
   },
   "outputs": [
    {
     "name": "stderr",
     "output_type": "stream",
     "text": [
      "/usr/local/lib/python3.10/dist-packages/seaborn/_oldcore.py:1119: FutureWarning: use_inf_as_na option is deprecated and will be removed in a future version. Convert inf values to NaN before operating instead.\n",
      "  with pd.option_context('mode.use_inf_as_na', True):\n"
     ]
    },
    {
     "data": {
      "image/png": "[encoded data removed]",
      "text/plain": [
       "<Figure size 640x480 with 1 Axes>"
      ]
     },
     "metadata": {},
     "output_type": "display_data"
    }
   ],
   "source": [
    "# Distribution of TotalPhysicalRAMMB\n",
    "sns.histplot(x_train['TotalPhysicalRAMMB'].dropna(), bins=30, kde=True)\n",
    "plt.title(\"Distribution of Total Physical RAM (MB)\")\n",
    "plt.show()\n"
   ]
  },
  {
   "cell_type": "code",
   "execution_count": 16,
   "id": "53874fb0",
   "metadata": {
    "execution": {
     "iopub.execute_input": "2025-03-12T17:36:33.031831Z",
     "iopub.status.busy": "2025-03-12T17:36:33.031464Z",
     "iopub.status.idle": "2025-03-12T17:36:34.322553Z",
     "shell.execute_reply": "2025-03-12T17:36:34.321340Z"
    },
    "papermill": {
     "duration": 1.305707,
     "end_time": "2025-03-12T17:36:34.325084",
     "exception": false,
     "start_time": "2025-03-12T17:36:33.019377",
     "status": "completed"
    },
    "tags": []
   },
   "outputs": [
    {
     "data": {
      "image/png": "[encoded data removed]",
      "text/plain": [
       "<Figure size 1000x800 with 2 Axes>"
      ]
     },
     "metadata": {},
     "output_type": "display_data"
    }
   ],
   "source": [
    "# Select only numeric columns\n",
    "numeric_features = x_train.select_dtypes(include=['number'])\n",
    "\n",
    "# Drop columns with only NaN values or constant values\n",
    "numeric_features = numeric_features.loc[:, numeric_features.nunique() > 1].dropna(axis=1, how='all')\n",
    "\n",
    "# Compute correlation\n",
    "corr_matrix = numeric_features.corr()\n",
    "\n",
    "# Replace NaN values with 0 (optional)\n",
    "corr_matrix = corr_matrix.fillna(0)\n",
    "\n",
    "# Correlation heatmap\n",
    "plt.figure(figsize=(10, 8))\n",
    "sns.heatmap(corr_matrix, cmap=\"coolwarm\", annot=False, vmin=-1, vmax=1)\n",
    "plt.title(\"Feature Correlation Heatmap\")\n",
    "plt.show()\n"
   ]
  },
  {
   "cell_type": "code",
   "execution_count": 17,
   "id": "a77da5bb",
   "metadata": {
    "execution": {
     "iopub.execute_input": "2025-03-12T17:36:34.358803Z",
     "iopub.status.busy": "2025-03-12T17:36:34.358451Z",
     "iopub.status.idle": "2025-03-12T17:36:34.461618Z",
     "shell.execute_reply": "2025-03-12T17:36:34.460511Z"
    },
    "papermill": {
     "duration": 0.122685,
     "end_time": "2025-03-12T17:36:34.463659",
     "exception": false,
     "start_time": "2025-03-12T17:36:34.340974",
     "status": "completed"
    },
    "tags": []
   },
   "outputs": [],
   "source": [
    "# Combine train and test for preprocessing (excluding 'MachineID')\n",
    "combined_data = pd.concat([x.drop('MachineID',axis=1), x_test.drop('MachineID',axis=1)], ignore_index=True)"
   ]
  },
  {
   "cell_type": "code",
   "execution_count": 18,
   "id": "0268ec99",
   "metadata": {
    "execution": {
     "iopub.execute_input": "2025-03-12T17:36:34.494539Z",
     "iopub.status.busy": "2025-03-12T17:36:34.494177Z",
     "iopub.status.idle": "2025-03-12T17:36:36.005105Z",
     "shell.execute_reply": "2025-03-12T17:36:36.004263Z"
    },
    "papermill": {
     "duration": 1.528751,
     "end_time": "2025-03-12T17:36:36.007068",
     "exception": false,
     "start_time": "2025-03-12T17:36:34.478317",
     "status": "completed"
    },
    "tags": []
   },
   "outputs": [],
   "source": [
    "# Preprocessing: Handle categorical and numerical features separately\n",
    "categorical_cols = combined_data.select_dtypes(include=['object']).columns\n",
    "numerical_cols = combined_data.select_dtypes(include=['number']).columns\n",
    "\n",
    "#Handle Missing Values\n",
    "numerical_imputer = SimpleImputer(strategy='median')\n",
    "categorical_imputer = SimpleImputer(strategy='most_frequent')\n",
    "\n",
    "combined_data[numerical_cols] = numerical_imputer.fit_transform(combined_data[numerical_cols])\n",
    "combined_data[categorical_cols] = categorical_imputer.fit_transform(combined_data[categorical_cols])\n"
   ]
  },
  {
   "cell_type": "code",
   "execution_count": 19,
   "id": "db7bd36d",
   "metadata": {
    "execution": {
     "iopub.execute_input": "2025-03-12T17:36:36.037684Z",
     "iopub.status.busy": "2025-03-12T17:36:36.037345Z",
     "iopub.status.idle": "2025-03-12T17:36:36.900378Z",
     "shell.execute_reply": "2025-03-12T17:36:36.899421Z"
    },
    "papermill": {
     "duration": 0.880776,
     "end_time": "2025-03-12T17:36:36.902474",
     "exception": false,
     "start_time": "2025-03-12T17:36:36.021698",
     "status": "completed"
    },
    "tags": []
   },
   "outputs": [],
   "source": [
    "# Encode categorical features\n",
    "label_encoder = LabelEncoder()\n",
    "for col in categorical_cols:\n",
    "    combined_data[col] = label_encoder.fit_transform(combined_data[col])\n",
    "\n",
    "# Scale numerical features\n",
    "scaler = StandardScaler()\n",
    "combined_data[numerical_cols] = scaler.fit_transform(combined_data[numerical_cols])\n"
   ]
  },
  {
   "cell_type": "code",
   "execution_count": 20,
   "id": "b6e8e2b0",
   "metadata": {
    "execution": {
     "iopub.execute_input": "2025-03-12T17:36:36.933368Z",
     "iopub.status.busy": "2025-03-12T17:36:36.932898Z",
     "iopub.status.idle": "2025-03-12T17:36:36.938405Z",
     "shell.execute_reply": "2025-03-12T17:36:36.937254Z"
    },
    "papermill": {
     "duration": 0.022804,
     "end_time": "2025-03-12T17:36:36.940299",
     "exception": false,
     "start_time": "2025-03-12T17:36:36.917495",
     "status": "completed"
    },
    "tags": []
   },
   "outputs": [],
   "source": [
    "# Separate train and test sets\n",
    "x_train_processed = combined_data[:x_train.shape[0]]\n",
    "x_test_processed = combined_data[x_train.shape[0]:]"
   ]
  },
  {
   "cell_type": "code",
   "execution_count": 21,
   "id": "31471caa",
   "metadata": {
    "execution": {
     "iopub.execute_input": "2025-03-12T17:36:36.971889Z",
     "iopub.status.busy": "2025-03-12T17:36:36.971556Z",
     "iopub.status.idle": "2025-03-12T17:36:36.975419Z",
     "shell.execute_reply": "2025-03-12T17:36:36.974484Z"
    },
    "papermill": {
     "duration": 0.022035,
     "end_time": "2025-03-12T17:36:36.976923",
     "exception": false,
     "start_time": "2025-03-12T17:36:36.954888",
     "status": "completed"
    },
    "tags": []
   },
   "outputs": [],
   "source": [
    "# Train the model Accuracy=0.61750\n",
    "# model = RandomForestClassifier(n_estimators=100, random_state=42)\n",
    "# model.fit(x_train_processed, y)\n",
    "# y_pred = model.predict(x_test_processed)\n",
    "\n"
   ]
  },
  {
   "cell_type": "code",
   "execution_count": 22,
   "id": "4de2b61a",
   "metadata": {
    "execution": {
     "iopub.execute_input": "2025-03-12T17:36:37.007783Z",
     "iopub.status.busy": "2025-03-12T17:36:37.007438Z",
     "iopub.status.idle": "2025-03-12T17:36:37.011163Z",
     "shell.execute_reply": "2025-03-12T17:36:37.010293Z"
    },
    "papermill": {
     "duration": 0.021029,
     "end_time": "2025-03-12T17:36:37.012684",
     "exception": false,
     "start_time": "2025-03-12T17:36:36.991655",
     "status": "completed"
    },
    "tags": []
   },
   "outputs": [],
   "source": [
    "# Train the model Accuracy=0.54770\n",
    "\n",
    "# from sklearn.tree import DecisionTreeClassifier\n",
    "\n",
    "# model = DecisionTreeClassifier()\n",
    "# model.fit(x_train_processed, y)\n",
    "# y_pred = model.predict(x_test_processed)"
   ]
  },
  {
   "cell_type": "code",
   "execution_count": 23,
   "id": "5e7a77bb",
   "metadata": {
    "execution": {
     "iopub.execute_input": "2025-03-12T17:36:37.043557Z",
     "iopub.status.busy": "2025-03-12T17:36:37.043167Z",
     "iopub.status.idle": "2025-03-12T17:37:33.287570Z",
     "shell.execute_reply": "2025-03-12T17:37:33.286381Z"
    },
    "papermill": {
     "duration": 56.262657,
     "end_time": "2025-03-12T17:37:33.290075",
     "exception": false,
     "start_time": "2025-03-12T17:36:37.027418",
     "status": "completed"
    },
    "tags": []
   },
   "outputs": [],
   "source": [
    "# Train the model\n",
    "from sklearn.ensemble import GradientBoostingClassifier\n",
    "model = GradientBoostingClassifier()\n",
    "model.fit(x_train_processed, y)\n",
    "# Make predictions\n",
    "y_pred = model.predict(x_test_processed)"
   ]
  },
  {
   "cell_type": "code",
   "execution_count": 24,
   "id": "14bc903f",
   "metadata": {
    "execution": {
     "iopub.execute_input": "2025-03-12T17:37:33.322236Z",
     "iopub.status.busy": "2025-03-12T17:37:33.321804Z",
     "iopub.status.idle": "2025-03-12T17:37:33.343277Z",
     "shell.execute_reply": "2025-03-12T17:37:33.341280Z"
    },
    "papermill": {
     "duration": 0.040649,
     "end_time": "2025-03-12T17:37:33.345821",
     "exception": false,
     "start_time": "2025-03-12T17:37:33.305172",
     "status": "completed"
    },
    "tags": []
   },
   "outputs": [
    {
     "name": "stdout",
     "output_type": "stream",
     "text": [
      "Submission file created successfully!\n"
     ]
    }
   ],
   "source": [
    "\n",
    "# Create submission file with simple integer IDs\n",
    "submission = pd.DataFrame({\"id\": range(len(y_pred)), \"target\": y_pred})\n",
    "submission.to_csv('submission.csv', index=False)\n",
    "\n",
    "print(\"Submission file created successfully!\")"
   ]
  },
  {
   "cell_type": "code",
   "execution_count": 25,
   "id": "9043bdd1",
   "metadata": {
    "execution": {
     "iopub.execute_input": "2025-03-12T17:37:33.377601Z",
     "iopub.status.busy": "2025-03-12T17:37:33.377153Z",
     "iopub.status.idle": "2025-03-12T17:37:33.400571Z",
     "shell.execute_reply": "2025-03-12T17:37:33.399430Z"
    },
    "papermill": {
     "duration": 0.041754,
     "end_time": "2025-03-12T17:37:33.402624",
     "exception": false,
     "start_time": "2025-03-12T17:37:33.360870",
     "status": "completed"
    },
    "tags": []
   },
   "outputs": [
    {
     "name": "stdout",
     "output_type": "stream",
     "text": [
      "IsBetaUser unique value counts:\n",
      " IsBetaUser\n",
      "0    1.0\n",
      "Name: proportion, dtype: float64 \n",
      "\n",
      "IsPassiveModeEnabled unique value counts:\n",
      " IsPassiveModeEnabled\n",
      "0    0.98238\n",
      "1    0.01762\n",
      "Name: proportion, dtype: float64 \n",
      "\n",
      "AntivirusConfigID unique value counts:\n",
      " AntivirusConfigID\n",
      "53447.0    0.666897\n",
      "7945.0     0.054411\n",
      "47238.0    0.039890\n",
      "62773.0    0.025639\n",
      "46413.0    0.013720\n",
      "             ...   \n",
      "52678.0    0.000010\n",
      "6793.0     0.000010\n",
      "54599.0    0.000010\n",
      "17943.0    0.000010\n",
      "32922.0    0.000010\n",
      "Name: proportion, Length: 1976, dtype: float64 \n",
      "\n",
      "AutoSampleSubmissionEnabled unique value counts:\n",
      " AutoSampleSubmissionEnabled\n",
      "0    1.0\n",
      "Name: proportion, dtype: float64 \n",
      "\n",
      "IsFlightsDisabled unique value counts:\n",
      " IsFlightsDisabled\n",
      "0.0    1.0\n",
      "Name: proportion, dtype: float64 \n",
      "\n"
     ]
    }
   ],
   "source": [
    "# Milestone 2 Q1\n",
    "\n",
    "# Check for low variance in categorical columns\n",
    "redundant_columns = ['IsBetaUser', 'IsPassiveModeEnabled', 'AntivirusConfigID', \n",
    "                     'AutoSampleSubmissionEnabled', 'IsFlightsDisabled']\n",
    "\n",
    "for col in redundant_columns:\n",
    "    print(f\"{col} unique value counts:\\n\", x[col].value_counts(normalize=True), \"\\n\")\n"
   ]
  },
  {
   "cell_type": "code",
   "execution_count": 26,
   "id": "e9253305",
   "metadata": {
    "execution": {
     "iopub.execute_input": "2025-03-12T17:37:33.435635Z",
     "iopub.status.busy": "2025-03-12T17:37:33.435159Z",
     "iopub.status.idle": "2025-03-12T17:37:36.029493Z",
     "shell.execute_reply": "2025-03-12T17:37:36.028299Z"
    },
    "papermill": {
     "duration": 2.612761,
     "end_time": "2025-03-12T17:37:36.031492",
     "exception": false,
     "start_time": "2025-03-12T17:37:33.418731",
     "status": "completed"
    },
    "tags": []
   },
   "outputs": [
    {
     "name": "stdout",
     "output_type": "stream",
     "text": [
      "Correlation between DateAS and SignatureVersion: 0.8745\n",
      "Correlation between OSBuildLab and NumericOSVersion: 0.7866\n",
      "Correlation between OSEdition and OSSkuFriendlyName: 0.9989\n",
      "Correlation between OSProductSuite and OSSkuFriendlyName: -0.9601\n"
     ]
    }
   ],
   "source": [
    "# Milestone 2 Q2\n",
    "\n",
    "import numpy as np\n",
    "\n",
    "# Convert categorical columns to numerical if needed\n",
    "x_numeric = x.copy()\n",
    "categorical_cols = x_numeric.select_dtypes(include=['object']).columns\n",
    "\n",
    "from sklearn.preprocessing import LabelEncoder\n",
    "label_enc = LabelEncoder()\n",
    "for col in categorical_cols:\n",
    "    x_numeric[col] = label_enc.fit_transform(x_numeric[col])\n",
    "\n",
    "# Compute Pearson correlation\n",
    "correlation_matrix = x_numeric.corr()\n",
    "\n",
    "# Define column pairs to check correlation\n",
    "column_pairs = [\n",
    "    (\"DateAS\", \"SignatureVersion\"),\n",
    "    (\"OSBuildLab\", \"NumericOSVersion\"),\n",
    "    (\"OSEdition\", \"OSSkuFriendlyName\"),\n",
    "    (\"OSProductSuite\", \"OSSkuFriendlyName\")\n",
    "]\n",
    "\n",
    "# Display correlation values\n",
    "for col1, col2 in column_pairs:\n",
    "    if col1 in correlation_matrix.columns and col2 in correlation_matrix.columns:\n",
    "        correlation_value = correlation_matrix.loc[col1, col2]\n",
    "        print(f\"Correlation between {col1} and {col2}: {correlation_value:.4f}\")\n",
    "    else:\n",
    "        print(f\"Columns {col1} and/or {col2} not found in correlation matrix.\")\n"
   ]
  },
  {
   "cell_type": "code",
   "execution_count": 27,
   "id": "f0a46c3c",
   "metadata": {
    "execution": {
     "iopub.execute_input": "2025-03-12T17:37:36.063460Z",
     "iopub.status.busy": "2025-03-12T17:37:36.062994Z",
     "iopub.status.idle": "2025-03-12T17:37:36.963641Z",
     "shell.execute_reply": "2025-03-12T17:37:36.962206Z"
    },
    "papermill": {
     "duration": 0.918912,
     "end_time": "2025-03-12T17:37:36.965673",
     "exception": false,
     "start_time": "2025-03-12T17:37:36.046761",
     "status": "completed"
    },
    "tags": []
   },
   "outputs": [
    {
     "name": "stderr",
     "output_type": "stream",
     "text": [
      "/usr/local/lib/python3.10/dist-packages/sklearn/preprocessing/_encoders.py:868: FutureWarning: `sparse` was renamed to `sparse_output` in version 1.2 and will be removed in 1.4. `sparse_output` is ignored unless you leave `sparse` to its default value.\n",
      "  warnings.warn(\n"
     ]
    },
    {
     "name": "stdout",
     "output_type": "stream",
     "text": [
      "New number of columns in cat_df: 69\n"
     ]
    }
   ],
   "source": [
    "# Milestone 2 Q3\n",
    "\n",
    "from sklearn.preprocessing import OneHotEncoder\n",
    "\n",
    "# Extract object columns\n",
    "cat_df = x.select_dtypes(include=['object'])\n",
    "\n",
    "# Identify categorical columns with ≤10 unique values\n",
    "low_cardinality_cols = [col for col in cat_df.columns if cat_df[col].nunique() <= 10]\n",
    "\n",
    "# Apply OneHotEncoding\n",
    "encoder = OneHotEncoder(sparse=False, drop='first', handle_unknown='ignore')\n",
    "encoded_df = encoder.fit_transform(cat_df[low_cardinality_cols])\n",
    "\n",
    "# Update cat_df with encoded columns\n",
    "cat_df = pd.DataFrame(encoded_df, columns=encoder.get_feature_names_out(low_cardinality_cols))\n",
    "\n",
    "# Check new number of columns\n",
    "print(\"New number of columns in cat_df:\", cat_df.shape[1])\n"
   ]
  },
  {
   "cell_type": "code",
   "execution_count": 28,
   "id": "aedf76e5",
   "metadata": {
    "execution": {
     "iopub.execute_input": "2025-03-12T17:37:36.999252Z",
     "iopub.status.busy": "2025-03-12T17:37:36.998820Z",
     "iopub.status.idle": "2025-03-12T17:37:37.236360Z",
     "shell.execute_reply": "2025-03-12T17:37:37.234834Z"
    },
    "papermill": {
     "duration": 0.25627,
     "end_time": "2025-03-12T17:37:37.238435",
     "exception": false,
     "start_time": "2025-03-12T17:37:36.982165",
     "status": "completed"
    },
    "tags": []
   },
   "outputs": [
    {
     "name": "stdout",
     "output_type": "stream",
     "text": [
      "Sum of all values in num_df: 1536370.453366877\n"
     ]
    }
   ],
   "source": [
    "# Milestone 2 Q4\n",
    "\n",
    "from sklearn.preprocessing import MinMaxScaler\n",
    "\n",
    "# Select numeric columns\n",
    "num_df = x.select_dtypes(include=['int64', 'float64'])\n",
    "\n",
    "# Handle missing values by filling with 0 or column median\n",
    "num_df = num_df.fillna(num_df.median())\n",
    "\n",
    "# Apply MinMaxScaler\n",
    "scaler = MinMaxScaler()\n",
    "num_df_scaled = scaler.fit_transform(num_df)\n",
    "\n",
    "# Sum of all values\n",
    "sum_num_df = np.sum(num_df_scaled)\n",
    "print(\"Sum of all values in num_df:\", sum_num_df)\n",
    "\n"
   ]
  },
  {
   "cell_type": "code",
   "execution_count": 29,
   "id": "4f20f04a",
   "metadata": {
    "execution": {
     "iopub.execute_input": "2025-03-12T17:37:37.272080Z",
     "iopub.status.busy": "2025-03-12T17:37:37.271668Z",
     "iopub.status.idle": "2025-03-12T17:38:04.088056Z",
     "shell.execute_reply": "2025-03-12T17:38:04.086506Z"
    },
    "papermill": {
     "duration": 26.836887,
     "end_time": "2025-03-12T17:38:04.090887",
     "exception": false,
     "start_time": "2025-03-12T17:37:37.254000",
     "status": "completed"
    },
    "tags": []
   },
   "outputs": [
    {
     "name": "stdout",
     "output_type": "stream",
     "text": [
      "SGDClassifier Accuracy: 0.4951\n"
     ]
    }
   ],
   "source": [
    "# Milestone 2 Q5\n",
    "\n",
    "from sklearn.impute import SimpleImputer\n",
    "from sklearn.preprocessing import OrdinalEncoder\n",
    "from sklearn.linear_model import SGDClassifier\n",
    "from sklearn.model_selection import train_test_split\n",
    "from sklearn.metrics import accuracy_score\n",
    "\n",
    "# Fill missing values with most frequent strategy\n",
    "imputer = SimpleImputer(strategy=\"most_frequent\")\n",
    "X_imputed = pd.DataFrame(imputer.fit_transform(x), columns=x.columns)\n",
    "\n",
    "# Encode categorical features\n",
    "encoder = OrdinalEncoder()\n",
    "cat_cols = X_imputed.select_dtypes(include=['object']).columns\n",
    "X_imputed[cat_cols] = encoder.fit_transform(X_imputed[cat_cols])\n",
    "\n",
    "# Split dataset\n",
    "X_train, X_test, y_train, y_test = train_test_split(X_imputed, y, test_size=0.2, random_state=42)\n",
    "\n",
    "# Train SGDClassifier\n",
    "sgd_model = SGDClassifier(random_state=42)\n",
    "sgd_model.fit(X_train, y_train)\n",
    "\n",
    "# Evaluate accuracy\n",
    "y_pred = sgd_model.predict(X_test)\n",
    "accuracy = accuracy_score(y_test, y_pred)\n",
    "print(\"SGDClassifier Accuracy:\", accuracy)\n",
    "\n"
   ]
  },
  {
   "cell_type": "code",
   "execution_count": 30,
   "id": "b779cda4",
   "metadata": {
    "execution": {
     "iopub.execute_input": "2025-03-12T17:38:04.125403Z",
     "iopub.status.busy": "2025-03-12T17:38:04.125008Z",
     "iopub.status.idle": "2025-03-12T17:39:45.606439Z",
     "shell.execute_reply": "2025-03-12T17:39:45.605102Z"
    },
    "papermill": {
     "duration": 101.514563,
     "end_time": "2025-03-12T17:39:45.622853",
     "exception": false,
     "start_time": "2025-03-12T17:38:04.108290",
     "status": "completed"
    },
    "tags": []
   },
   "outputs": [
    {
     "name": "stdout",
     "output_type": "stream",
     "text": [
      "Decision Tree Results:\n",
      "Best max_depth: 20\n",
      "Best min_samples_split: 2\n",
      "Best min_samples_leaf: 2\n",
      "Validation Accuracy: 0.57\n",
      "\n",
      "AdaBoost Results:\n",
      "Best n_estimators: 10\n",
      "Best learning_rate: 5\n",
      "Validation Accuracy: 0.43\n"
     ]
    }
   ],
   "source": [
    "#Milestone 3\n",
    "\n",
    "import pandas as pd\n",
    "from sklearn.model_selection import train_test_split, GridSearchCV\n",
    "from sklearn.preprocessing import LabelEncoder, StandardScaler\n",
    "from sklearn.impute import SimpleImputer\n",
    "from sklearn.tree import DecisionTreeClassifier\n",
    "from sklearn.ensemble import AdaBoostClassifier\n",
    "from sklearn.metrics import accuracy_score\n",
    "\n",
    "# Load the dataset\n",
    "x_train = pd.read_csv(\"/kaggle/input/System-Threat-Forecaster/train.csv\")\n",
    "x_test = pd.read_csv(\"/kaggle/input/System-Threat-Forecaster/test.csv\")\n",
    "\n",
    "# Separate features and target variable\n",
    "x = x_train.drop([\"MachineID\", \"target\"], axis=1)\n",
    "y = x_train[\"target\"]\n",
    "\n",
    "# Combine train and test for preprocessing\n",
    "combined_data = pd.concat([x, x_test.drop(\"MachineID\", axis=1)], ignore_index=True)\n",
    "\n",
    "# Identify categorical and numerical columns\n",
    "categorical_cols = combined_data.select_dtypes(include=['object']).columns\n",
    "numerical_cols = combined_data.select_dtypes(include=['number']).columns\n",
    "\n",
    "# Handle Missing Values\n",
    "numerical_imputer = SimpleImputer(strategy='mean')\n",
    "categorical_imputer = SimpleImputer(strategy='most_frequent')\n",
    "combined_data[numerical_cols] = numerical_imputer.fit_transform(combined_data[numerical_cols])\n",
    "combined_data[categorical_cols] = categorical_imputer.fit_transform(combined_data[categorical_cols])\n",
    "\n",
    "# Encode categorical features\n",
    "label_encoder = LabelEncoder()\n",
    "for col in categorical_cols:\n",
    "    combined_data[col] = label_encoder.fit_transform(combined_data[col])\n",
    "\n",
    "# Scale numerical features\n",
    "scaler = StandardScaler()\n",
    "combined_data[numerical_cols] = scaler.fit_transform(combined_data[numerical_cols])\n",
    "\n",
    "# Separate train and test sets\n",
    "x_train_processed = combined_data[:x_train.shape[0]]\n",
    "x_test_processed = combined_data[x_train.shape[0]:]\n",
    "\n",
    "# Split train data\n",
    "x_train_split, x_val_split, y_train_split, y_val_split = train_test_split(x_train_processed, y, test_size=0.2, random_state=42)\n",
    "\n",
    "# Model 1: Decision Tree with Grid Search\n",
    "dt = DecisionTreeClassifier(random_state=42)\n",
    "param_grid_dt = {\n",
    "    'max_depth': [20, 30],\n",
    "    'min_samples_split': [2, 5],\n",
    "    'min_samples_leaf': [1, 2]\n",
    "}\n",
    "grid_search_dt = GridSearchCV(estimator=dt, param_grid=param_grid_dt, scoring='accuracy', cv=3)\n",
    "grid_search_dt.fit(x_train_split, y_train_split)\n",
    "\n",
    "# Best parameters and accuracy for Decision Tree\n",
    "best_dt = grid_search_dt.best_estimator_\n",
    "best_max_depth = grid_search_dt.best_params_['max_depth']\n",
    "best_min_samples_split = grid_search_dt.best_params_['min_samples_split']\n",
    "best_min_samples_leaf = grid_search_dt.best_params_['min_samples_leaf']\n",
    "\n",
    "y_val_pred_dt = best_dt.predict(x_val_split)\n",
    "accuracy_dt = accuracy_score(y_val_split, y_val_pred_dt)\n",
    "\n",
    "print(\"Decision Tree Results:\")\n",
    "print(f\"Best max_depth: {best_max_depth}\")\n",
    "print(f\"Best min_samples_split: {best_min_samples_split}\")\n",
    "print(f\"Best min_samples_leaf: {best_min_samples_leaf}\")\n",
    "print(f\"Validation Accuracy: {accuracy_dt:.2f}\")\n",
    "\n",
    "# Model 2: AdaBoost with Grid Search\n",
    "ada = AdaBoostClassifier(random_state=42)\n",
    "param_grid_ada = {\n",
    "    'n_estimators': [10, 20, 30],\n",
    "    'learning_rate': [5, 10],\n",
    "    'algorithm': ['SAMME']\n",
    "}\n",
    "grid_search_ada = GridSearchCV(estimator=ada, param_grid=param_grid_ada, scoring='accuracy', cv=3)\n",
    "grid_search_ada.fit(x_train_split, y_train_split)\n",
    "\n",
    "# Best parameters and accuracy for AdaBoost\n",
    "best_ada = grid_search_ada.best_estimator_\n",
    "best_n_estimators = grid_search_ada.best_params_['n_estimators']\n",
    "best_learning_rate = grid_search_ada.best_params_['learning_rate']\n",
    "\n",
    "y_val_pred_ada = best_ada.predict(x_val_split)\n",
    "accuracy_ada = accuracy_score(y_val_split, y_val_pred_ada)\n",
    "\n",
    "print(\"\\nAdaBoost Results:\")\n",
    "print(f\"Best n_estimators: {best_n_estimators}\")\n",
    "print(f\"Best learning_rate: {best_learning_rate}\")\n",
    "print(f\"Validation Accuracy: {accuracy_ada:.2f}\")\n"
   ]
  },
  {
   "cell_type": "markdown",
   "id": "c158a47d",
   "metadata": {
    "papermill": {
     "duration": 0.015439,
     "end_time": "2025-03-12T17:39:45.654266",
     "exception": false,
     "start_time": "2025-03-12T17:39:45.638827",
     "status": "completed"
    },
    "tags": []
   },
   "source": [
    "# 03-March-2025 submission"
   ]
  },
  {
   "cell_type": "markdown",
   "id": "b3872a46",
   "metadata": {
    "papermill": {
     "duration": 0.015825,
     "end_time": "2025-03-12T17:39:45.686151",
     "exception": false,
     "start_time": "2025-03-12T17:39:45.670326",
     "status": "completed"
    },
    "tags": []
   },
   "source": [
    "**XGBoost**"
   ]
  },
  {
   "cell_type": "code",
   "execution_count": 31,
   "id": "1ea7c1cf",
   "metadata": {
    "execution": {
     "iopub.execute_input": "2025-03-12T17:39:45.719696Z",
     "iopub.status.busy": "2025-03-12T17:39:45.719338Z",
     "iopub.status.idle": "2025-03-12T17:39:45.999901Z",
     "shell.execute_reply": "2025-03-12T17:39:45.998723Z"
    },
    "papermill": {
     "duration": 0.299457,
     "end_time": "2025-03-12T17:39:46.001983",
     "exception": false,
     "start_time": "2025-03-12T17:39:45.702526",
     "status": "completed"
    },
    "tags": []
   },
   "outputs": [],
   "source": [
    "import pandas as pd\n",
    "import numpy as np\n",
    "from sklearn.model_selection import train_test_split\n",
    "from sklearn.preprocessing import LabelEncoder, StandardScaler\n",
    "from sklearn.impute import SimpleImputer\n",
    "from xgboost import XGBClassifier  # Using XGBoost\n",
    "from sklearn.metrics import accuracy_score, roc_auc_score  # Added ROC AUC"
   ]
  },
  {
   "cell_type": "code",
   "execution_count": 32,
   "id": "c261e772",
   "metadata": {
    "execution": {
     "iopub.execute_input": "2025-03-12T17:39:46.034897Z",
     "iopub.status.busy": "2025-03-12T17:39:46.034540Z",
     "iopub.status.idle": "2025-03-12T17:40:14.742533Z",
     "shell.execute_reply": "2025-03-12T17:40:14.741249Z"
    },
    "papermill": {
     "duration": 28.726886,
     "end_time": "2025-03-12T17:40:14.744594",
     "exception": false,
     "start_time": "2025-03-12T17:39:46.017708",
     "status": "completed"
    },
    "tags": []
   },
   "outputs": [
    {
     "name": "stderr",
     "output_type": "stream",
     "text": [
      "/usr/local/lib/python3.10/dist-packages/xgboost/sklearn.py:889: UserWarning: `eval_metric` in `fit` method is deprecated for better compatibility with scikit-learn, use `eval_metric` in constructor or`set_params` instead.\n",
      "  warnings.warn(\n"
     ]
    },
    {
     "name": "stdout",
     "output_type": "stream",
     "text": [
      "[0]\tvalidation_0-auc:0.64983\n",
      "[100]\tvalidation_0-auc:0.72688\n",
      "[200]\tvalidation_0-auc:0.76182\n",
      "[300]\tvalidation_0-auc:0.78870\n",
      "[400]\tvalidation_0-auc:0.81179\n",
      "[500]\tvalidation_0-auc:0.83321\n",
      "[600]\tvalidation_0-auc:0.85261\n",
      "[700]\tvalidation_0-auc:0.86934\n",
      "[800]\tvalidation_0-auc:0.88403\n",
      "[900]\tvalidation_0-auc:0.89727\n",
      "[999]\tvalidation_0-auc:0.90803\n",
      "Submission file created successfully!\n",
      "Training ROC AUC: 0.9080256682299225\n"
     ]
    }
   ],
   "source": [
    "import pandas as pd\n",
    "import numpy as np\n",
    "from sklearn.model_selection import train_test_split\n",
    "from sklearn.preprocessing import LabelEncoder, StandardScaler\n",
    "from sklearn.impute import SimpleImputer\n",
    "from xgboost import XGBClassifier  # Using XGBoost\n",
    "from sklearn.metrics import accuracy_score, roc_auc_score  # Added ROC AUC\n",
    "\n",
    "# Load the dataset\n",
    "x_train = pd.read_csv(\"/kaggle/input/System-Threat-Forecaster/train.csv\")\n",
    "x_test = pd.read_csv(\"/kaggle/input/System-Threat-Forecaster/test.csv\")\n",
    "# Separate features and target variable\n",
    "X = x_train.drop(\"target\", axis=1)\n",
    "y = x_train[\"target\"]\n",
    "\n",
    "# Combine train and test for preprocessing (excluding 'MachineID')\n",
    "combined_data = pd.concat([X.drop('MachineID',axis=1), x_test.drop('MachineID',axis=1)], ignore_index=True)\n",
    "\n",
    "# Preprocessing: Handle missing values and encode categoricals\n",
    "categorical_cols = combined_data.select_dtypes(include=['object']).columns\n",
    "numerical_cols = combined_data.select_dtypes(include=['number']).columns\n",
    "\n",
    "# Impute missing values\n",
    "numerical_imputer = SimpleImputer(strategy='median')\n",
    "categorical_imputer = SimpleImputer(strategy='most_frequent')\n",
    "combined_data[numerical_cols] = numerical_imputer.fit_transform(combined_data[numerical_cols])\n",
    "combined_data[categorical_cols] = categorical_imputer.fit_transform(combined_data[categorical_cols])\n",
    "\n",
    "# Encode categorical features\n",
    "label_encoder = LabelEncoder()\n",
    "for col in categorical_cols:\n",
    "    combined_data[col] = label_encoder.fit_transform(combined_data[col])\n",
    "\n",
    "\n",
    "# Scale numerical features – Consider tree-based scaling alternatives\n",
    "scaler = StandardScaler() # OR RobustScaler() OR QuantileTransformer(output_distribution='normal')\n",
    "combined_data[numerical_cols] = scaler.fit_transform(combined_data[numerical_cols])\n",
    "\n",
    "# Separate train and test sets\n",
    "X_train_processed = combined_data[:X.shape[0]]\n",
    "X_test_processed = combined_data[X.shape[0]:]\n",
    "\n",
    "# Train the XGBoost model with optimized parameters\n",
    "model = XGBClassifier(\n",
    "    n_estimators=1000,  # Increased number of trees\n",
    "    learning_rate=0.05,  # Reduced learning rate\n",
    "    max_depth=7,        # Limited tree depth\n",
    "    subsample=0.8,      # Introduce stochasticity\n",
    "    colsample_bytree=0.8,# Feature subsampling\n",
    "    objective='binary:logistic', # Correct objective for binary classification\n",
    "    n_jobs=-1,          # Use all available cores\n",
    "    random_state=42,      # Set random state for reproducibility\n",
    "    early_stopping_rounds=20 # Early stopping to prevent overfitting\n",
    "    ) \n",
    "\n",
    "# Train the model with early stopping\n",
    "eval_set = [(X_train_processed, y)]\n",
    "model.fit(X_train_processed, y, eval_set=eval_set, eval_metric=\"auc\", verbose=100)\n",
    "\n",
    "# Make predictions\n",
    "y_pred_prob = model.predict_proba(X_test_processed)[:, 1] # Predict probabilities\n",
    "\n",
    "# threshold = 0.5\n",
    "threshold = 0.54\n",
    "y_pred = (y_pred_prob > threshold).astype(int)  # Convert to 0 or 1\n",
    "\n",
    "# Create submission file\n",
    "submission = pd.DataFrame({\"id\": range(len(y_pred)), \"target\": y_pred}) # Use y_pred, not y_pred_prob\n",
    "submission.to_csv('submission.csv', index=False)\n",
    "\n",
    "print(\"Submission file created successfully!\")\n",
    "\n",
    "\n",
    "# Evaluate on training set (for demonstration - remember to use cross-validation for robust evaluation)\n",
    "y_train_pred_prob = model.predict_proba(X_train_processed)[:, 1]\n",
    "train_auc = roc_auc_score(y, y_train_pred_prob)\n",
    "print(f\"Training ROC AUC: {train_auc}\")\n"
   ]
  },
  {
   "cell_type": "code",
   "execution_count": 33,
   "id": "d6724e29",
   "metadata": {
    "execution": {
     "iopub.execute_input": "2025-03-12T17:40:14.779431Z",
     "iopub.status.busy": "2025-03-12T17:40:14.778989Z",
     "iopub.status.idle": "2025-03-12T17:40:16.035693Z",
     "shell.execute_reply": "2025-03-12T17:40:16.034599Z"
    },
    "papermill": {
     "duration": 1.276452,
     "end_time": "2025-03-12T17:40:16.037764",
     "exception": false,
     "start_time": "2025-03-12T17:40:14.761312",
     "status": "completed"
    },
    "tags": []
   },
   "outputs": [],
   "source": [
    "# Load the dataset\n",
    "x_train = pd.read_csv(\"/kaggle/input/System-Threat-Forecaster/train.csv\")\n",
    "x_test = pd.read_csv(\"/kaggle/input/System-Threat-Forecaster/test.csv\")\n"
   ]
  },
  {
   "cell_type": "code",
   "execution_count": 34,
   "id": "6550d27b",
   "metadata": {
    "execution": {
     "iopub.execute_input": "2025-03-12T17:40:16.074547Z",
     "iopub.status.busy": "2025-03-12T17:40:16.074128Z",
     "iopub.status.idle": "2025-03-12T17:40:16.115716Z",
     "shell.execute_reply": "2025-03-12T17:40:16.114546Z"
    },
    "papermill": {
     "duration": 0.061098,
     "end_time": "2025-03-12T17:40:16.117709",
     "exception": false,
     "start_time": "2025-03-12T17:40:16.056611",
     "status": "completed"
    },
    "tags": []
   },
   "outputs": [],
   "source": [
    "# Separate features and target variable\n",
    "X = x_train.drop(\"target\", axis=1)\n",
    "y = x_train[\"target\"]"
   ]
  },
  {
   "cell_type": "code",
   "execution_count": 35,
   "id": "27397b9d",
   "metadata": {
    "execution": {
     "iopub.execute_input": "2025-03-12T17:40:16.152309Z",
     "iopub.status.busy": "2025-03-12T17:40:16.151917Z",
     "iopub.status.idle": "2025-03-12T17:40:18.439453Z",
     "shell.execute_reply": "2025-03-12T17:40:18.438274Z"
    },
    "papermill": {
     "duration": 2.30707,
     "end_time": "2025-03-12T17:40:18.441405",
     "exception": false,
     "start_time": "2025-03-12T17:40:16.134335",
     "status": "completed"
    },
    "tags": []
   },
   "outputs": [],
   "source": [
    "# Combine train and test for preprocessing (excluding 'MachineID')\n",
    "combined_data = pd.concat([X.drop('MachineID',axis=1), x_test.drop('MachineID',axis=1)], ignore_index=True)\n",
    "\n",
    "# Preprocessing: Handle missing values and encode categoricals\n",
    "categorical_cols = combined_data.select_dtypes(include=['object']).columns\n",
    "numerical_cols = combined_data.select_dtypes(include=['number']).columns\n",
    "\n",
    "# Impute missing values\n",
    "numerical_imputer = SimpleImputer(strategy='median')\n",
    "categorical_imputer = SimpleImputer(strategy='most_frequent')\n",
    "combined_data[numerical_cols] = numerical_imputer.fit_transform(combined_data[numerical_cols])\n",
    "combined_data[categorical_cols] = categorical_imputer.fit_transform(combined_data[categorical_cols])\n",
    "\n",
    "# Encode categorical features\n",
    "label_encoder = LabelEncoder()\n",
    "for col in categorical_cols:\n",
    "    combined_data[col] = label_encoder.fit_transform(combined_data[col])"
   ]
  },
  {
   "cell_type": "code",
   "execution_count": 36,
   "id": "6ef367ce",
   "metadata": {
    "execution": {
     "iopub.execute_input": "2025-03-12T17:40:18.476545Z",
     "iopub.status.busy": "2025-03-12T17:40:18.476151Z",
     "iopub.status.idle": "2025-03-12T17:40:18.633000Z",
     "shell.execute_reply": "2025-03-12T17:40:18.631820Z"
    },
    "papermill": {
     "duration": 0.176632,
     "end_time": "2025-03-12T17:40:18.635042",
     "exception": false,
     "start_time": "2025-03-12T17:40:18.458410",
     "status": "completed"
    },
    "tags": []
   },
   "outputs": [],
   "source": [
    "# Scale numerical features – Consider tree-based scaling alternatives\n",
    "scaler = StandardScaler() # OR RobustScaler() OR QuantileTransformer(output_distribution='normal')\n",
    "combined_data[numerical_cols] = scaler.fit_transform(combined_data[numerical_cols])\n"
   ]
  },
  {
   "cell_type": "code",
   "execution_count": 37,
   "id": "dfc41e96",
   "metadata": {
    "execution": {
     "iopub.execute_input": "2025-03-12T17:40:18.731317Z",
     "iopub.status.busy": "2025-03-12T17:40:18.730865Z",
     "iopub.status.idle": "2025-03-12T17:40:18.735938Z",
     "shell.execute_reply": "2025-03-12T17:40:18.734868Z"
    },
    "papermill": {
     "duration": 0.02436,
     "end_time": "2025-03-12T17:40:18.737805",
     "exception": false,
     "start_time": "2025-03-12T17:40:18.713445",
     "status": "completed"
    },
    "tags": []
   },
   "outputs": [],
   "source": [
    "# Separate train and test sets\n",
    "X_train_processed = combined_data[:X.shape[0]]\n",
    "X_test_processed = combined_data[X.shape[0]:]"
   ]
  },
  {
   "cell_type": "code",
   "execution_count": 38,
   "id": "2a2b973b",
   "metadata": {
    "execution": {
     "iopub.execute_input": "2025-03-12T17:40:18.772747Z",
     "iopub.status.busy": "2025-03-12T17:40:18.772391Z",
     "iopub.status.idle": "2025-03-12T17:40:18.778198Z",
     "shell.execute_reply": "2025-03-12T17:40:18.777258Z"
    },
    "papermill": {
     "duration": 0.025288,
     "end_time": "2025-03-12T17:40:18.780036",
     "exception": false,
     "start_time": "2025-03-12T17:40:18.754748",
     "status": "completed"
    },
    "tags": []
   },
   "outputs": [],
   "source": [
    "# Train the XGBoost model with optimized parameters\n",
    "model = XGBClassifier(\n",
    "    n_estimators=1000,  # Increased number of trees\n",
    "    learning_rate=0.05,  # Reduced learning rate\n",
    "    max_depth=7,        # Limited tree depth\n",
    "    subsample=0.8,      # Introduce stochasticity\n",
    "    colsample_bytree=0.8,# Feature subsampling\n",
    "    objective='binary:logistic', # Correct objective for binary classification\n",
    "    n_jobs=-1,          # Use all available cores\n",
    "    random_state=42,      # Set random state for reproducibility\n",
    "    early_stopping_rounds=20 # Early stopping to prevent overfitting\n",
    "    ) "
   ]
  },
  {
   "cell_type": "code",
   "execution_count": 39,
   "id": "9a3311ed",
   "metadata": {
    "execution": {
     "iopub.execute_input": "2025-03-12T17:40:18.817334Z",
     "iopub.status.busy": "2025-03-12T17:40:18.816906Z",
     "iopub.status.idle": "2025-03-12T17:40:40.549622Z",
     "shell.execute_reply": "2025-03-12T17:40:40.548167Z"
    },
    "papermill": {
     "duration": 21.754535,
     "end_time": "2025-03-12T17:40:40.551793",
     "exception": false,
     "start_time": "2025-03-12T17:40:18.797258",
     "status": "completed"
    },
    "tags": []
   },
   "outputs": [
    {
     "name": "stderr",
     "output_type": "stream",
     "text": [
      "/usr/local/lib/python3.10/dist-packages/xgboost/sklearn.py:889: UserWarning: `eval_metric` in `fit` method is deprecated for better compatibility with scikit-learn, use `eval_metric` in constructor or`set_params` instead.\n",
      "  warnings.warn(\n"
     ]
    },
    {
     "name": "stdout",
     "output_type": "stream",
     "text": [
      "[0]\tvalidation_0-auc:0.64983\n",
      "[100]\tvalidation_0-auc:0.72688\n",
      "[200]\tvalidation_0-auc:0.76182\n",
      "[300]\tvalidation_0-auc:0.78870\n",
      "[400]\tvalidation_0-auc:0.81179\n",
      "[500]\tvalidation_0-auc:0.83321\n",
      "[600]\tvalidation_0-auc:0.85261\n",
      "[700]\tvalidation_0-auc:0.86934\n",
      "[800]\tvalidation_0-auc:0.88403\n",
      "[900]\tvalidation_0-auc:0.89727\n",
      "[999]\tvalidation_0-auc:0.90803\n"
     ]
    },
    {
     "data": {
      "text/html": [
       "<style>#sk-container-id-1 {color: black;background-color: white;}#sk-container-id-1 pre{padding: 0;}#sk-container-id-1 div.sk-toggleable {background-color: white;}#sk-container-id-1 label.sk-toggleable__label {cursor: pointer;display: block;width: 100%;margin-bottom: 0;padding: 0.3em;box-sizing: border-box;text-align: center;}#sk-container-id-1 label.sk-toggleable__label-arrow:before {content: \"▸\";float: left;margin-right: 0.25em;color: #696969;}#sk-container-id-1 label.sk-toggleable__label-arrow:hover:before {color: black;}#sk-container-id-1 div.sk-estimator:hover label.sk-toggleable__label-arrow:before {color: black;}#sk-container-id-1 div.sk-toggleable__content {max-height: 0;max-width: 0;overflow: hidden;text-align: left;background-color: #f0f8ff;}#sk-container-id-1 div.sk-toggleable__content pre {margin: 0.2em;color: black;border-radius: 0.25em;background-color: #f0f8ff;}#sk-container-id-1 input.sk-toggleable__control:checked~div.sk-toggleable__content {max-height: 200px;max-width: 100%;overflow: auto;}#sk-container-id-1 input.sk-toggleable__control:checked~label.sk-toggleable__label-arrow:before {content: \"▾\";}#sk-container-id-1 div.sk-estimator input.sk-toggleable__control:checked~label.sk-toggleable__label {background-color: #d4ebff;}#sk-container-id-1 div.sk-label input.sk-toggleable__control:checked~label.sk-toggleable__label {background-color: #d4ebff;}#sk-container-id-1 input.sk-hidden--visually {border: 0;clip: rect(1px 1px 1px 1px);clip: rect(1px, 1px, 1px, 1px);height: 1px;margin: -1px;overflow: hidden;padding: 0;position: absolute;width: 1px;}#sk-container-id-1 div.sk-estimator {font-family: monospace;background-color: #f0f8ff;border: 1px dotted black;border-radius: 0.25em;box-sizing: border-box;margin-bottom: 0.5em;}#sk-container-id-1 div.sk-estimator:hover {background-color: #d4ebff;}#sk-container-id-1 div.sk-parallel-item::after {content: \"\";width: 100%;border-bottom: 1px solid gray;flex-grow: 1;}#sk-container-id-1 div.sk-label:hover label.sk-toggleable__label {background-color: #d4ebff;}#sk-container-id-1 div.sk-serial::before {content: \"\";position: absolute;border-left: 1px solid gray;box-sizing: border-box;top: 0;bottom: 0;left: 50%;z-index: 0;}#sk-container-id-1 div.sk-serial {display: flex;flex-direction: column;align-items: center;background-color: white;padding-right: 0.2em;padding-left: 0.2em;position: relative;}#sk-container-id-1 div.sk-item {position: relative;z-index: 1;}#sk-container-id-1 div.sk-parallel {display: flex;align-items: stretch;justify-content: center;background-color: white;position: relative;}#sk-container-id-1 div.sk-item::before, #sk-container-id-1 div.sk-parallel-item::before {content: \"\";position: absolute;border-left: 1px solid gray;box-sizing: border-box;top: 0;bottom: 0;left: 50%;z-index: -1;}#sk-container-id-1 div.sk-parallel-item {display: flex;flex-direction: column;z-index: 1;position: relative;background-color: white;}#sk-container-id-1 div.sk-parallel-item:first-child::after {align-self: flex-end;width: 50%;}#sk-container-id-1 div.sk-parallel-item:last-child::after {align-self: flex-start;width: 50%;}#sk-container-id-1 div.sk-parallel-item:only-child::after {width: 0;}#sk-container-id-1 div.sk-dashed-wrapped {border: 1px dashed gray;margin: 0 0.4em 0.5em 0.4em;box-sizing: border-box;padding-bottom: 0.4em;background-color: white;}#sk-container-id-1 div.sk-label label {font-family: monospace;font-weight: bold;display: inline-block;line-height: 1.2em;}#sk-container-id-1 div.sk-label-container {text-align: center;}#sk-container-id-1 div.sk-container {/* jupyter's `normalize.less` sets `[hidden] { display: none; }` but bootstrap.min.css set `[hidden] { display: none !important; }` so we also need the `!important` here to be able to override the default hidden behavior on the sphinx rendered scikit-learn.org. See: https://github.com/scikit-learn/scikit-learn/issues/21755 */display: inline-block !important;position: relative;}#sk-container-id-1 div.sk-text-repr-fallback {display: none;}</style><div id=\"sk-container-id-1\" class=\"sk-top-container\"><div class=\"sk-text-repr-fallback\"><pre>XGBClassifier(base_score=None, booster=None, callbacks=None,\n",
       "              colsample_bylevel=None, colsample_bynode=None,\n",
       "              colsample_bytree=0.8, device=None, early_stopping_rounds=20,\n",
       "              enable_categorical=False, eval_metric=None, feature_types=None,\n",
       "              gamma=None, grow_policy=None, importance_type=None,\n",
       "              interaction_constraints=None, learning_rate=0.05, max_bin=None,\n",
       "              max_cat_threshold=None, max_cat_to_onehot=None,\n",
       "              max_delta_step=None, max_depth=7, max_leaves=None,\n",
       "              min_child_weight=None, missing=nan, monotone_constraints=None,\n",
       "              multi_strategy=None, n_estimators=1000, n_jobs=-1,\n",
       "              num_parallel_tree=None, random_state=42, ...)</pre><b>In a Jupyter environment, please rerun this cell to show the HTML representation or trust the notebook. <br />On GitHub, the HTML representation is unable to render, please try loading this page with nbviewer.org.</b></div><div class=\"sk-container\" hidden><div class=\"sk-item\"><div class=\"sk-estimator sk-toggleable\"><input class=\"sk-toggleable__control sk-hidden--visually\" id=\"sk-estimator-id-1\" type=\"checkbox\" checked><label for=\"sk-estimator-id-1\" class=\"sk-toggleable__label sk-toggleable__label-arrow\">XGBClassifier</label><div class=\"sk-toggleable__content\"><pre>XGBClassifier(base_score=None, booster=None, callbacks=None,\n",
       "              colsample_bylevel=None, colsample_bynode=None,\n",
       "              colsample_bytree=0.8, device=None, early_stopping_rounds=20,\n",
       "              enable_categorical=False, eval_metric=None, feature_types=None,\n",
       "              gamma=None, grow_policy=None, importance_type=None,\n",
       "              interaction_constraints=None, learning_rate=0.05, max_bin=None,\n",
       "              max_cat_threshold=None, max_cat_to_onehot=None,\n",
       "              max_delta_step=None, max_depth=7, max_leaves=None,\n",
       "              min_child_weight=None, missing=nan, monotone_constraints=None,\n",
       "              multi_strategy=None, n_estimators=1000, n_jobs=-1,\n",
       "              num_parallel_tree=None, random_state=42, ...)</pre></div></div></div></div></div>"
      ],
      "text/plain": [
       "XGBClassifier(base_score=None, booster=None, callbacks=None,\n",
       "              colsample_bylevel=None, colsample_bynode=None,\n",
       "              colsample_bytree=0.8, device=None, early_stopping_rounds=20,\n",
       "              enable_categorical=False, eval_metric=None, feature_types=None,\n",
       "              gamma=None, grow_policy=None, importance_type=None,\n",
       "              interaction_constraints=None, learning_rate=0.05, max_bin=None,\n",
       "              max_cat_threshold=None, max_cat_to_onehot=None,\n",
       "              max_delta_step=None, max_depth=7, max_leaves=None,\n",
       "              min_child_weight=None, missing=nan, monotone_constraints=None,\n",
       "              multi_strategy=None, n_estimators=1000, n_jobs=-1,\n",
       "              num_parallel_tree=None, random_state=42, ...)"
      ]
     },
     "execution_count": 39,
     "metadata": {},
     "output_type": "execute_result"
    }
   ],
   "source": [
    "# Train the model with early stopping\n",
    "eval_set = [(X_train_processed, y)]\n",
    "model.fit(X_train_processed, y, eval_set=eval_set, eval_metric=\"auc\", verbose=100)"
   ]
  },
  {
   "cell_type": "code",
   "execution_count": 40,
   "id": "51e3d7b0",
   "metadata": {
    "execution": {
     "iopub.execute_input": "2025-03-12T17:40:40.588853Z",
     "iopub.status.busy": "2025-03-12T17:40:40.588489Z",
     "iopub.status.idle": "2025-03-12T17:40:40.855638Z",
     "shell.execute_reply": "2025-03-12T17:40:40.852188Z"
    },
    "papermill": {
     "duration": 0.288473,
     "end_time": "2025-03-12T17:40:40.858203",
     "exception": false,
     "start_time": "2025-03-12T17:40:40.569730",
     "status": "completed"
    },
    "tags": []
   },
   "outputs": [],
   "source": [
    "# Make predictions\n",
    "y_pred_prob = model.predict_proba(X_test_processed)[:, 1] # Predict probabilities\n",
    "\n",
    "# threshold = 0.5\n",
    "threshold = 0.54\n",
    "y_pred = (y_pred_prob > threshold).astype(int)  # Convert to 0 or 1"
   ]
  },
  {
   "cell_type": "code",
   "execution_count": 41,
   "id": "c9d8d455",
   "metadata": {
    "execution": {
     "iopub.execute_input": "2025-03-12T17:40:40.913419Z",
     "iopub.status.busy": "2025-03-12T17:40:40.913009Z",
     "iopub.status.idle": "2025-03-12T17:40:40.928741Z",
     "shell.execute_reply": "2025-03-12T17:40:40.927241Z"
    },
    "papermill": {
     "duration": 0.037691,
     "end_time": "2025-03-12T17:40:40.930843",
     "exception": false,
     "start_time": "2025-03-12T17:40:40.893152",
     "status": "completed"
    },
    "tags": []
   },
   "outputs": [
    {
     "name": "stdout",
     "output_type": "stream",
     "text": [
      "Submission file created successfully!\n"
     ]
    }
   ],
   "source": [
    "# Create submission file\n",
    "submission = pd.DataFrame({\"id\": range(len(y_pred)), \"target\": y_pred}) # Use y_pred, not y_pred_prob\n",
    "submission.to_csv('submission.csv', index=False)\n",
    "\n",
    "print(\"Submission file created successfully!\")"
   ]
  },
  {
   "cell_type": "code",
   "execution_count": 42,
   "id": "934ca3c7",
   "metadata": {
    "execution": {
     "iopub.execute_input": "2025-03-12T17:40:40.969770Z",
     "iopub.status.busy": "2025-03-12T17:40:40.969311Z",
     "iopub.status.idle": "2025-03-12T17:40:43.031903Z",
     "shell.execute_reply": "2025-03-12T17:40:43.030478Z"
    },
    "papermill": {
     "duration": 2.083885,
     "end_time": "2025-03-12T17:40:43.033721",
     "exception": false,
     "start_time": "2025-03-12T17:40:40.949836",
     "status": "completed"
    },
    "tags": []
   },
   "outputs": [
    {
     "name": "stdout",
     "output_type": "stream",
     "text": [
      "Training ROC AUC: 0.9080256682299225\n"
     ]
    }
   ],
   "source": [
    "# Evaluate on training set (for demonstration - remember to use cross-validation for robust evaluation)\n",
    "y_train_pred_prob = model.predict_proba(X_train_processed)[:, 1]\n",
    "train_auc = roc_auc_score(y, y_train_pred_prob)\n",
    "print(f\"Training ROC AUC: {train_auc}\")"
   ]
  },
  {
   "cell_type": "markdown",
   "id": "72a42b0b",
   "metadata": {
    "papermill": {
     "duration": 0.019134,
     "end_time": "2025-03-12T17:40:43.071313",
     "exception": false,
     "start_time": "2025-03-12T17:40:43.052179",
     "status": "completed"
    },
    "tags": []
   },
   "source": [
    "**XGBoost-2**"
   ]
  },
  {
   "cell_type": "code",
   "execution_count": 43,
   "id": "4660e7b1",
   "metadata": {
    "execution": {
     "iopub.execute_input": "2025-03-12T17:40:43.109945Z",
     "iopub.status.busy": "2025-03-12T17:40:43.109601Z",
     "iopub.status.idle": "2025-03-12T17:40:43.114907Z",
     "shell.execute_reply": "2025-03-12T17:40:43.113807Z"
    },
    "papermill": {
     "duration": 0.026839,
     "end_time": "2025-03-12T17:40:43.116807",
     "exception": false,
     "start_time": "2025-03-12T17:40:43.089968",
     "status": "completed"
    },
    "tags": []
   },
   "outputs": [],
   "source": [
    "# import pandas as pd\n",
    "# import numpy as np\n",
    "# import matplotlib.pyplot as plt\n",
    "# from sklearn.model_selection import train_test_split\n",
    "# from sklearn.preprocessing import LabelEncoder, QuantileTransformer\n",
    "# from sklearn.impute import SimpleImputer\n",
    "# from xgboost import XGBClassifier\n",
    "# from sklearn.metrics import accuracy_score, roc_auc_score, f1_score\n",
    "# from sklearn.utils.class_weight import compute_sample_weight\n",
    "# import optuna\n",
    "\n",
    "# # Load Data\n",
    "# x_train = pd.read_csv(\"/kaggle/input/System-Threat-Forecaster/train.csv\")\n",
    "# x_test = pd.read_csv(\"/kaggle/input/System-Threat-Forecaster/test.csv\")\n",
    "\n",
    "# # Separate Features & Target\n",
    "# X = x_train.drop([\"target\", \"MachineID\"], axis=1)\n",
    "# y = x_train[\"target\"]\n",
    "# X_test = x_test.drop(\"MachineID\", axis=1)\n",
    "\n",
    "# # Combine Train & Test for Preprocessing\n",
    "# combined_data = pd.concat([X, X_test], ignore_index=True)\n",
    "\n",
    "# # Identify Categorical & Numerical Columns\n",
    "# categorical_cols = combined_data.select_dtypes(include=['object']).columns\n",
    "# numerical_cols = combined_data.select_dtypes(include=['number']).columns\n",
    "\n",
    "# # Handle Missing Values\n",
    "# num_imputer = SimpleImputer(strategy='median')\n",
    "# cat_imputer = SimpleImputer(strategy='most_frequent')\n",
    "\n",
    "# combined_data[numerical_cols] = num_imputer.fit_transform(combined_data[numerical_cols])\n",
    "# combined_data[categorical_cols] = cat_imputer.fit_transform(combined_data[categorical_cols])\n",
    "\n",
    "# # Encode Categorical Features\n",
    "# label_encoder = LabelEncoder()\n",
    "# for col in categorical_cols:\n",
    "#     combined_data[col] = label_encoder.fit_transform(combined_data[col])\n",
    "\n",
    "# # Scale Numerical Features (Tree-based Friendly)\n",
    "# scaler = QuantileTransformer(output_distribution='normal')\n",
    "# combined_data[numerical_cols] = scaler.fit_transform(combined_data[numerical_cols])\n",
    "\n",
    "# # Feature Engineering: Add Interaction Features\n",
    "# for col in numerical_cols:\n",
    "#     combined_data[f'{col}_squared'] = combined_data[col] ** 2  # Squared Feature\n",
    "\n",
    "# # Separate Processed Train & Test Data\n",
    "# X_train_processed = combined_data[:X.shape[0]]\n",
    "# X_test_processed = combined_data[X.shape[0]:]\n",
    "\n",
    "# # Handle Class Imbalance\n",
    "# class_weight = compute_sample_weight(class_weight=\"balanced\", y=y)\n",
    "# scale_pos_weight = class_weight.mean()\n",
    "\n",
    "# # Define Optuna Hyperparameter Tuning\n",
    "# def objective(trial):\n",
    "#     params = {\n",
    "#         'n_estimators': trial.suggest_int('n_estimators', 500, 2000, step=100),\n",
    "#         'learning_rate': trial.suggest_float('learning_rate', 0.01, 0.1),\n",
    "#         'max_depth': trial.suggest_int('max_depth', 4, 12),\n",
    "#         'subsample': trial.suggest_float('subsample', 0.5, 1.0),\n",
    "#         'colsample_bytree': trial.suggest_float('colsample_bytree', 0.5, 1.0),\n",
    "#         'gamma': trial.suggest_float('gamma', 0, 5),\n",
    "#         'reg_lambda': trial.suggest_float('reg_lambda', 0, 5),\n",
    "#         'scale_pos_weight': scale_pos_weight\n",
    "#     }\n",
    "    \n",
    "#     model = XGBClassifier(**params, objective='binary:logistic', random_state=42, n_jobs=-1)\n",
    "#     model.fit(X_train_processed, y, eval_set=[(X_train_processed, y)], eval_metric=\"auc\", early_stopping_rounds=20, verbose=False)\n",
    "    \n",
    "#     y_pred = model.predict(X_train_processed)\n",
    "#     return accuracy_score(y, y_pred)\n",
    "\n",
    "# # Run Optuna\n",
    "# study = optuna.create_study(direction='maximize')\n",
    "# study.optimize(objective, n_trials=20)\n",
    "# best_params = study.best_params\n",
    "\n",
    "# # Train Optimized Model\n",
    "# model = XGBClassifier(**best_params, objective='binary:logistic', random_state=42, n_jobs=-1)\n",
    "# model.fit(X_train_processed, y, eval_set=[(X_train_processed, y)], eval_metric=\"auc\", early_stopping_rounds=20, verbose=100)\n",
    "\n",
    "# # Feature Importance Plot\n",
    "# feature_importance = model.feature_importances_\n",
    "# feature_names = X_train_processed.columns\n",
    "# sorted_idx = np.argsort(feature_importance)[-20:]\n",
    "\n",
    "# plt.figure(figsize=(10, 6))\n",
    "# plt.barh(range(len(sorted_idx)), feature_importance[sorted_idx], align=\"center\")\n",
    "# plt.yticks(range(len(sorted_idx)), [feature_names[i] for i in sorted_idx])\n",
    "# plt.xlabel(\"Feature Importance\")\n",
    "# plt.title(\"Top 20 Feature Importances\")\n",
    "# plt.show()\n",
    "\n",
    "# # Make Predictions\n",
    "# y_pred_prob = model.predict_proba(X_test_processed)[:, 1]\n",
    "\n",
    "# # Find Best Threshold Using F1 Score\n",
    "# best_threshold = 0.5\n",
    "# best_f1 = 0\n",
    "# y_train_pred_prob = model.predict_proba(X_train_processed)[:, 1]\n",
    "\n",
    "# for t in np.arange(0.3, 0.7, 0.01):\n",
    "#     preds = (y_train_pred_prob > t).astype(int)\n",
    "#     score = f1_score(y, preds)\n",
    "#     if score > best_f1:\n",
    "#         best_f1 = score\n",
    "#         best_threshold = t\n",
    "\n",
    "# print(f\"Best Threshold: {best_threshold}\")\n",
    "\n",
    "# # Apply Optimized Threshold\n",
    "# y_pred = (y_pred_prob > best_threshold).astype(int)\n",
    "\n",
    "# # Create Submission File\n",
    "# submission = pd.DataFrame({\"id\": range(len(y_pred)), \"target\": y_pred})\n",
    "# submission.to_csv('submission.csv', index=False)\n",
    "\n",
    "# print(\"Submission file created successfully!\")\n",
    "\n",
    "# # Evaluate on Training Set\n",
    "# train_auc = roc_auc_score(y, y_train_pred_prob)\n",
    "# train_accuracy = accuracy_score(y, (y_train_pred_prob > best_threshold).astype(int))\n",
    "\n",
    "# print(f\"Training ROC AUC: {train_auc}\")\n",
    "# print(f\"Training Accuracy: {train_accuracy}\")\n"
   ]
  },
  {
   "cell_type": "code",
   "execution_count": 44,
   "id": "58749480",
   "metadata": {
    "execution": {
     "iopub.execute_input": "2025-03-12T17:40:43.155579Z",
     "iopub.status.busy": "2025-03-12T17:40:43.155154Z",
     "iopub.status.idle": "2025-03-12T17:41:39.298542Z",
     "shell.execute_reply": "2025-03-12T17:41:39.297317Z"
    },
    "papermill": {
     "duration": 56.164871,
     "end_time": "2025-03-12T17:41:39.300409",
     "exception": false,
     "start_time": "2025-03-12T17:40:43.135538",
     "status": "completed"
    },
    "tags": []
   },
   "outputs": [
    {
     "name": "stdout",
     "output_type": "stream",
     "text": [
      "[LightGBM] [Info] Number of positive: 40420, number of negative: 40420\n",
      "[LightGBM] [Info] Auto-choosing row-wise multi-threading, the overhead of testing was 0.024652 seconds.\n",
      "You can set `force_row_wise=true` to remove the overhead.\n",
      "And if memory is not enough, you can set `force_col_wise=true`.\n",
      "[LightGBM] [Info] Total Bins 7149\n",
      "[LightGBM] [Info] Number of data points in the train set: 80840, number of used features: 71\n",
      "[LightGBM] [Info] [binary:BoostFromScore]: pavg=0.500000 -> initscore=0.000000\n",
      "Training until validation scores don't improve for 20 rounds\n",
      "Early stopping, best iteration is:\n",
      "[369]\tvalid_0's auc: 0.689476\n",
      "[LightGBM] [Info] Number of positive: 40420, number of negative: 40420\n",
      "[LightGBM] [Info] Auto-choosing row-wise multi-threading, the overhead of testing was 0.017435 seconds.\n",
      "You can set `force_row_wise=true` to remove the overhead.\n",
      "And if memory is not enough, you can set `force_col_wise=true`.\n",
      "[LightGBM] [Info] Total Bins 7145\n",
      "[LightGBM] [Info] Number of data points in the train set: 80840, number of used features: 71\n",
      "[LightGBM] [Info] [binary:BoostFromScore]: pavg=0.500000 -> initscore=0.000000\n",
      "Training until validation scores don't improve for 20 rounds\n",
      "Early stopping, best iteration is:\n",
      "[396]\tvalid_0's auc: 0.681123\n",
      "[LightGBM] [Info] Number of positive: 40420, number of negative: 40420\n",
      "[LightGBM] [Info] Auto-choosing row-wise multi-threading, the overhead of testing was 0.025357 seconds.\n",
      "You can set `force_row_wise=true` to remove the overhead.\n",
      "And if memory is not enough, you can set `force_col_wise=true`.\n",
      "[LightGBM] [Info] Total Bins 7140\n",
      "[LightGBM] [Info] Number of data points in the train set: 80840, number of used features: 71\n",
      "[LightGBM] [Info] [binary:BoostFromScore]: pavg=0.500000 -> initscore=0.000000\n",
      "Training until validation scores don't improve for 20 rounds\n",
      "Early stopping, best iteration is:\n",
      "[451]\tvalid_0's auc: 0.691104\n",
      "[LightGBM] [Info] Number of positive: 40420, number of negative: 40420\n",
      "[LightGBM] [Info] Auto-choosing row-wise multi-threading, the overhead of testing was 0.017244 seconds.\n",
      "You can set `force_row_wise=true` to remove the overhead.\n",
      "And if memory is not enough, you can set `force_col_wise=true`.\n",
      "[LightGBM] [Info] Total Bins 7172\n",
      "[LightGBM] [Info] Number of data points in the train set: 80840, number of used features: 70\n",
      "[LightGBM] [Info] [binary:BoostFromScore]: pavg=0.500000 -> initscore=0.000000\n",
      "Training until validation scores don't improve for 20 rounds\n",
      "Early stopping, best iteration is:\n",
      "[398]\tvalid_0's auc: 0.686847\n",
      "[LightGBM] [Info] Number of positive: 40420, number of negative: 40420\n",
      "[LightGBM] [Info] Auto-choosing row-wise multi-threading, the overhead of testing was 0.017006 seconds.\n",
      "You can set `force_row_wise=true` to remove the overhead.\n",
      "And if memory is not enough, you can set `force_col_wise=true`.\n",
      "[LightGBM] [Info] Total Bins 7143\n",
      "[LightGBM] [Info] Number of data points in the train set: 80840, number of used features: 71\n",
      "[LightGBM] [Info] [binary:BoostFromScore]: pavg=0.500000 -> initscore=0.000000\n",
      "Training until validation scores don't improve for 20 rounds\n",
      "Early stopping, best iteration is:\n",
      "[359]\tvalid_0's auc: 0.687473\n",
      "Mean Validation ROC AUC: 0.6872\n",
      "[LightGBM] [Info] Number of positive: 50525, number of negative: 50525\n",
      "[LightGBM] [Info] Auto-choosing row-wise multi-threading, the overhead of testing was 0.020335 seconds.\n",
      "You can set `force_row_wise=true` to remove the overhead.\n",
      "And if memory is not enough, you can set `force_col_wise=true`.\n",
      "[LightGBM] [Info] Total Bins 7447\n",
      "[LightGBM] [Info] Number of data points in the train set: 101050, number of used features: 71\n",
      "[LightGBM] [Info] [binary:BoostFromScore]: pavg=0.500000 -> initscore=0.000000\n",
      "Submission file created successfully!\n",
      "Model saved as lgb_model.pkl!\n"
     ]
    }
   ],
   "source": [
    "#model1-0.63650\n",
    "import pandas as pd\n",
    "import numpy as np\n",
    "import seaborn as sns\n",
    "import matplotlib.pyplot as plt\n",
    "import lightgbm as lgb\n",
    "import pickle\n",
    "import regex as re\n",
    "import plotly.express as px\n",
    "from sklearn.model_selection import train_test_split, StratifiedKFold\n",
    "from sklearn.preprocessing import StandardScaler, LabelEncoder\n",
    "from sklearn.impute import SimpleImputer\n",
    "from sklearn.metrics import accuracy_score, roc_auc_score, classification_report\n",
    "from imblearn.over_sampling import SMOTE\n",
    "\n",
    "# Load Data\n",
    "x_train = pd.read_csv(\"/kaggle/input/System-Threat-Forecaster/train.csv\")\n",
    "x_test = pd.read_csv(\"/kaggle/input/System-Threat-Forecaster/test.csv\")\n",
    "\n",
    "# Separate features and target variable\n",
    "X = x_train.drop([\"target\", \"MachineID\"], axis=1)\n",
    "y = x_train[\"target\"]\n",
    "X_test = x_test.drop(\"MachineID\", axis=1)\n",
    "\n",
    "# Combine for preprocessing\n",
    "combined_data = pd.concat([X, X_test], ignore_index=True)\n",
    "\n",
    "# Identify categorical and numerical features\n",
    "categorical_cols = combined_data.select_dtypes(include=['object']).columns\n",
    "numerical_cols = combined_data.select_dtypes(include=['number']).columns\n",
    "\n",
    "# Handle missing values\n",
    "num_imputer = SimpleImputer(strategy='median')\n",
    "cat_imputer = SimpleImputer(strategy='most_frequent')\n",
    "combined_data[numerical_cols] = num_imputer.fit_transform(combined_data[numerical_cols])\n",
    "combined_data[categorical_cols] = cat_imputer.fit_transform(combined_data[categorical_cols])\n",
    "\n",
    "# Encode categorical variables\n",
    "label_encoder = LabelEncoder()\n",
    "for col in categorical_cols:\n",
    "    combined_data[col] = label_encoder.fit_transform(combined_data[col])\n",
    "\n",
    "# Scale numerical features\n",
    "scaler = StandardScaler()\n",
    "combined_data[numerical_cols] = scaler.fit_transform(combined_data[numerical_cols])\n",
    "\n",
    "# Separate processed train & test data\n",
    "X_train_processed = combined_data[:len(X)]\n",
    "X_test_processed = combined_data[len(X):]\n",
    "\n",
    "# Handle class imbalance using SMOTE\n",
    "smote = SMOTE(sampling_strategy='auto', random_state=42)\n",
    "X_train_resampled, y_resampled = smote.fit_resample(X_train_processed, y)\n",
    "\n",
    "# Train LightGBM Model\n",
    "params = {\n",
    "    'objective': 'binary',\n",
    "    'metric': 'auc',\n",
    "    'boosting_type': 'gbdt',\n",
    "    'num_leaves': 31,\n",
    "    'learning_rate': 0.05,\n",
    "    'n_estimators': 500,\n",
    "    'subsample': 0.8,\n",
    "    'colsample_bytree': 0.8,\n",
    "    'random_state': 42\n",
    "}\n",
    "\n",
    "lgb_model = lgb.LGBMClassifier(**params)\n",
    "kfold = StratifiedKFold(n_splits=5, shuffle=True, random_state=42)\n",
    "\n",
    "auc_scores = []\n",
    "for train_idx, val_idx in kfold.split(X_train_resampled, y_resampled):\n",
    "    X_train_fold, X_val_fold = X_train_resampled.iloc[train_idx], X_train_resampled.iloc[val_idx]\n",
    "    y_train_fold, y_val_fold = y_resampled.iloc[train_idx], y_resampled.iloc[val_idx]\n",
    "    \n",
    "    lgb_model.fit(X_train_fold, y_train_fold, \n",
    "              eval_set=[(X_val_fold, y_val_fold)], \n",
    "              eval_metric='auc', \n",
    "              callbacks=[lgb.early_stopping(20)] \n",
    "              )\n",
    "\n",
    "    y_val_pred_prob = lgb_model.predict_proba(X_val_fold)[:, 1]\n",
    "    auc = roc_auc_score(y_val_fold, y_val_pred_prob)\n",
    "    auc_scores.append(auc)\n",
    "    \n",
    "print(f\"Mean Validation ROC AUC: {np.mean(auc_scores):.4f}\")\n",
    "\n",
    "# Final Training on Full Data\n",
    "lgb_model.fit(X_train_resampled, y_resampled)\n",
    "\n",
    "# Predict\n",
    "y_pred_prob = lgb_model.predict_proba(X_test_processed)[:, 1]\n",
    "y_pred = (y_pred_prob > 0.5).astype(int)\n",
    "\n",
    "# Create submission file\n",
    "submission = pd.DataFrame({\"id\": range(len(y_pred)), \"target\": y_pred})\n",
    "submission.to_csv('submission.csv', index=False)\n",
    "\n",
    "print(\"Submission file created successfully!\")\n",
    "\n",
    "# Save Model\n",
    "with open(\"lgb_model.pkl\", \"wb\") as f:\n",
    "    pickle.dump(lgb_model, f)\n",
    "\n",
    "print(\"Model saved as lgb_model.pkl!\")\n"
   ]
  },
  {
   "cell_type": "code",
   "execution_count": 45,
   "id": "15d1fbc3",
   "metadata": {
    "execution": {
     "iopub.execute_input": "2025-03-12T17:41:39.344737Z",
     "iopub.status.busy": "2025-03-12T17:41:39.344309Z",
     "iopub.status.idle": "2025-03-12T17:41:39.350121Z",
     "shell.execute_reply": "2025-03-12T17:41:39.349020Z"
    },
    "papermill": {
     "duration": 0.031546,
     "end_time": "2025-03-12T17:41:39.352519",
     "exception": false,
     "start_time": "2025-03-12T17:41:39.320973",
     "status": "completed"
    },
    "tags": []
   },
   "outputs": [],
   "source": [
    "#model2\n",
    "# import pandas as pd\n",
    "# import numpy as np\n",
    "# import lightgbm as lgb\n",
    "# import pickle\n",
    "# import plotly.express as px\n",
    "# import seaborn as sns\n",
    "# import matplotlib.pyplot as plt\n",
    "# from sklearn.model_selection import StratifiedKFold, train_test_split\n",
    "# from sklearn.preprocessing import StandardScaler, LabelEncoder\n",
    "# from sklearn.impute import SimpleImputer\n",
    "# from sklearn.metrics import accuracy_score, roc_auc_score\n",
    "# from imblearn.over_sampling import SMOTE\n",
    "# import optuna  # For hyperparameter tuning\n",
    "\n",
    "# # Load Data\n",
    "# x_train = pd.read_csv(\"/kaggle/input/System-Threat-Forecaster/train.csv\")\n",
    "# x_test = pd.read_csv(\"/kaggle/input/System-Threat-Forecaster/test.csv\")\n",
    "\n",
    "# # Separate Features & Target\n",
    "# X = x_train.drop([\"target\", \"MachineID\"], axis=1)\n",
    "# y = x_train[\"target\"]\n",
    "# X_test = x_test.drop(\"MachineID\", axis=1)\n",
    "\n",
    "# # Combine Train & Test for Preprocessing\n",
    "# combined_data = pd.concat([X, X_test], ignore_index=True)\n",
    "\n",
    "# # Identify Feature Types\n",
    "# categorical_cols = combined_data.select_dtypes(include=['object']).columns\n",
    "# numerical_cols = combined_data.select_dtypes(include=['number']).columns\n",
    "\n",
    "# # Handle Missing Values\n",
    "# num_imputer = SimpleImputer(strategy='median')\n",
    "# cat_imputer = SimpleImputer(strategy='most_frequent')\n",
    "# combined_data[numerical_cols] = num_imputer.fit_transform(combined_data[numerical_cols])\n",
    "# combined_data[categorical_cols] = cat_imputer.fit_transform(combined_data[categorical_cols])\n",
    "\n",
    "# # Encode Categorical Variables\n",
    "# label_encoder = LabelEncoder()\n",
    "# for col in categorical_cols:\n",
    "#     combined_data[col] = label_encoder.fit_transform(combined_data[col])\n",
    "\n",
    "# # Scale Numerical Features\n",
    "# scaler = StandardScaler()\n",
    "# combined_data[numerical_cols] = scaler.fit_transform(combined_data[numerical_cols])\n",
    "\n",
    "# # Feature Engineering: Add Interaction Features\n",
    "# for col in numerical_cols:\n",
    "#     combined_data[f\"{col}_squared\"] = combined_data[col] ** 2\n",
    "\n",
    "# # Separate Processed Train & Test Data\n",
    "# X_train_processed = combined_data[:len(X)]\n",
    "# X_test_processed = combined_data[len(X):]\n",
    "\n",
    "# # Handle Class Imbalance using SMOTE\n",
    "# smote = SMOTE(sampling_strategy='auto', random_state=42)\n",
    "# X_train_resampled, y_resampled = smote.fit_resample(X_train_processed, y)\n",
    "\n",
    "# # Hyperparameter Optimization using Optuna\n",
    "# def objective(trial):\n",
    "#     params = {\n",
    "#         'objective': 'binary',\n",
    "#         'metric': 'auc',\n",
    "#         'boosting_type': 'gbdt',\n",
    "#         'num_leaves': trial.suggest_int('num_leaves', 20, 200),\n",
    "#         'learning_rate': trial.suggest_float('learning_rate', 0.01, 0.2),\n",
    "#         'n_estimators': trial.suggest_int('n_estimators', 100, 1000),\n",
    "#         'subsample': trial.suggest_float('subsample', 0.6, 1.0),\n",
    "#         'colsample_bytree': trial.suggest_float('colsample_bytree', 0.6, 1.0),\n",
    "#         'min_child_samples': trial.suggest_int('min_child_samples', 5, 50),\n",
    "#         'max_bin': 255,\n",
    "#         'random_state': 42\n",
    "#     }\n",
    "\n",
    "#     lgb_model = lgb.LGBMClassifier(**params)\n",
    "#     kfold = StratifiedKFold(n_splits=5, shuffle=True, random_state=42)\n",
    "\n",
    "#     auc_scores = []\n",
    "#     for train_idx, val_idx in kfold.split(X_train_resampled, y_resampled):\n",
    "#         X_train_fold, X_val_fold = X_train_resampled.iloc[train_idx], X_train_resampled.iloc[val_idx]\n",
    "#         y_train_fold, y_val_fold = y_resampled.iloc[train_idx], y_resampled.iloc[val_idx]\n",
    "\n",
    "#         lgb_model.fit(\n",
    "#             X_train_fold, y_train_fold,\n",
    "#             eval_set=[(X_val_fold, y_val_fold)],\n",
    "#             eval_metric='auc',\n",
    "#             callbacks=[lgb.early_stopping(20)]\n",
    "#         )\n",
    "\n",
    "#         y_val_pred_prob = lgb_model.predict_proba(X_val_fold)[:, 1]\n",
    "#         auc = roc_auc_score(y_val_fold, y_val_pred_prob)\n",
    "#         auc_scores.append(auc)\n",
    "\n",
    "#     return np.mean(auc_scores)\n",
    "\n",
    "# study = optuna.create_study(direction='maximize')\n",
    "# study.optimize(objective, n_trials=30)  # Run 30 trials\n",
    "\n",
    "# # Best Parameters\n",
    "# best_params = study.best_params\n",
    "# print(\"Best Parameters:\", best_params)\n",
    "\n",
    "# # Train Final Model with Best Parameters\n",
    "# lgb_model = lgb.LGBMClassifier(**best_params)\n",
    "# lgb_model.fit(X_train_resampled, y_resampled)\n",
    "\n",
    "# # Predict on Test Data\n",
    "# y_pred_prob = lgb_model.predict_proba(X_test_processed)[:, 1]\n",
    "# y_pred = (y_pred_prob > 0.5).astype(int)\n",
    "\n",
    "# # Create Submission File\n",
    "# submission = pd.DataFrame({\"id\": range(len(y_pred)), \"target\": y_pred})\n",
    "# submission.to_csv('submission.csv', index=False)\n",
    "\n",
    "# print(\"Optimized Submission file created successfully!\")\n",
    "\n",
    "# # Save Model\n",
    "# with open(\"optimized_lgb_model.pkl\", \"wb\") as f:\n",
    "#     pickle.dump(lgb_model, f)\n",
    "\n",
    "# print(\"Optimized Model saved as optimized_lgb_model.pkl!\")\n"
   ]
  },
  {
   "cell_type": "code",
   "execution_count": 46,
   "id": "c3868cc1",
   "metadata": {
    "execution": {
     "iopub.execute_input": "2025-03-12T17:41:39.392883Z",
     "iopub.status.busy": "2025-03-12T17:41:39.392466Z",
     "iopub.status.idle": "2025-03-12T17:41:39.398318Z",
     "shell.execute_reply": "2025-03-12T17:41:39.396808Z"
    },
    "papermill": {
     "duration": 0.028893,
     "end_time": "2025-03-12T17:41:39.400395",
     "exception": false,
     "start_time": "2025-03-12T17:41:39.371502",
     "status": "completed"
    },
    "tags": []
   },
   "outputs": [],
   "source": [
    "# #Model3\n",
    "# import pandas as pd\n",
    "# import numpy as np\n",
    "# from sklearn.model_selection import train_test_split\n",
    "# from sklearn.preprocessing import LabelEncoder, StandardScaler\n",
    "# from sklearn.impute import SimpleImputer\n",
    "# from xgboost import XGBClassifier  # Using XGBoost\n",
    "# from sklearn.metrics import accuracy_score, roc_auc_score  # Added ROC AUC\n",
    "\n",
    "# # Load the dataset\n",
    "# x_train = pd.read_csv(\"/kaggle/input/System-Threat-Forecaster/train.csv\")\n",
    "# x_test = pd.read_csv(\"/kaggle/input/System-Threat-Forecaster/test.csv\")\n",
    "# # Separate features and target variable\n",
    "# X = x_train.drop(\"target\", axis=1)\n",
    "# y = x_train[\"target\"]\n",
    "\n",
    "# # Combine train and test for preprocessing (excluding 'MachineID')\n",
    "# combined_data = pd.concat([X.drop('MachineID',axis=1), x_test.drop('MachineID',axis=1)], ignore_index=True)\n",
    "\n",
    "# # Preprocessing: Handle missing values and encode categoricals\n",
    "# categorical_cols = combined_data.select_dtypes(include=['object']).columns\n",
    "# numerical_cols = combined_data.select_dtypes(include=['number']).columns\n",
    "\n",
    "# # Impute missing values\n",
    "# numerical_imputer = SimpleImputer(strategy='median')\n",
    "# categorical_imputer = SimpleImputer(strategy='most_frequent')\n",
    "# combined_data[numerical_cols] = numerical_imputer.fit_transform(combined_data[numerical_cols])\n",
    "# combined_data[categorical_cols] = categorical_imputer.fit_transform(combined_data[categorical_cols])\n",
    "\n",
    "# # Encode categorical features\n",
    "# label_encoder = LabelEncoder()\n",
    "# for col in categorical_cols:\n",
    "#     combined_data[col] = label_encoder.fit_transform(combined_data[col])\n",
    "\n",
    "\n",
    "# # Scale numerical features – Consider tree-based scaling alternatives\n",
    "# scaler = StandardScaler() # OR RobustScaler() OR QuantileTransformer(output_distribution='normal')\n",
    "# combined_data[numerical_cols] = scaler.fit_transform(combined_data[numerical_cols])\n",
    "\n",
    "# # Separate train and test sets\n",
    "# X_train_processed = combined_data[:X.shape[0]]\n",
    "# X_test_processed = combined_data[X.shape[0]:]\n",
    "\n",
    "# # Train the XGBoost model with optimized parameters\n",
    "# model = XGBClassifier(\n",
    "#     n_estimators=1000,  # Increased number of trees\n",
    "#     learning_rate=0.05,  # Reduced learning rate\n",
    "#     max_depth=7,        # Limited tree depth\n",
    "#     subsample=0.8,      # Introduce stochasticity\n",
    "#     colsample_bytree=0.8,# Feature subsampling\n",
    "#     objective='binary:logistic', # Correct objective for binary classification\n",
    "#     n_jobs=-1,          # Use all available cores\n",
    "#     random_state=42,      # Set random state for reproducibility\n",
    "#     early_stopping_rounds=20 # Early stopping to prevent overfitting\n",
    "#     ) \n",
    "\n",
    "# # Train the model with early stopping\n",
    "# eval_set = [(X_train_processed, y)]\n",
    "# model.fit(X_train_processed, y, eval_set=eval_set, eval_metric=\"auc\", verbose=100)\n",
    "\n",
    "# # Make predictions\n",
    "# y_pred_prob = model.predict_proba(X_test_processed)[:, 1] # Predict probabilities\n",
    "\n",
    "# # threshold = 0.5\n",
    "# threshold = 0.5\n",
    "# y_pred = (y_pred_prob > threshold).astype(int)  # Convert to 0 or 1\n",
    "\n",
    "# # Create submission file\n",
    "# submission = pd.DataFrame({\"id\": range(len(y_pred)), \"target\": y_pred}) # Use y_pred, not y_pred_prob\n",
    "# submission.to_csv('submission.csv', index=False)\n",
    "\n",
    "# print(\"Submission file created successfully!\")\n",
    "\n",
    "\n",
    "# # Evaluate on training set (for demonstration - remember to use cross-validation for robust evaluation)\n",
    "# y_train_pred_prob = model.predict_proba(X_train_processed)[:, 1]\n",
    "# train_auc = roc_auc_score(y, y_train_pred_prob)\n",
    "# print(f\"Training ROC AUC: {train_auc}\")\n"
   ]
  },
  {
   "cell_type": "code",
   "execution_count": 47,
   "id": "b720e63e",
   "metadata": {
    "execution": {
     "iopub.execute_input": "2025-03-12T17:41:39.439751Z",
     "iopub.status.busy": "2025-03-12T17:41:39.439402Z",
     "iopub.status.idle": "2025-03-12T17:42:56.621997Z",
     "shell.execute_reply": "2025-03-12T17:42:56.620613Z"
    },
    "papermill": {
     "duration": 77.204582,
     "end_time": "2025-03-12T17:42:56.624021",
     "exception": false,
     "start_time": "2025-03-12T17:41:39.419439",
     "status": "completed"
    },
    "tags": []
   },
   "outputs": [
    {
     "name": "stdout",
     "output_type": "stream",
     "text": [
      "[LightGBM] [Warning] lambda_l2 is set=0.1, reg_lambda=0.0 will be ignored. Current value: lambda_l2=0.1\n",
      "[LightGBM] [Warning] lambda_l1 is set=0.1, reg_alpha=0.0 will be ignored. Current value: lambda_l1=0.1\n",
      "[LightGBM] [Warning] lambda_l2 is set=0.1, reg_lambda=0.0 will be ignored. Current value: lambda_l2=0.1\n",
      "[LightGBM] [Warning] lambda_l1 is set=0.1, reg_alpha=0.0 will be ignored. Current value: lambda_l1=0.1\n",
      "[LightGBM] [Info] Number of positive: 40420, number of negative: 40420\n",
      "[LightGBM] [Info] Auto-choosing row-wise multi-threading, the overhead of testing was 0.016848 seconds.\n",
      "You can set `force_row_wise=true` to remove the overhead.\n",
      "And if memory is not enough, you can set `force_col_wise=true`.\n",
      "[LightGBM] [Info] Total Bins 7149\n",
      "[LightGBM] [Info] Number of data points in the train set: 80840, number of used features: 71\n",
      "[LightGBM] [Warning] lambda_l2 is set=0.1, reg_lambda=0.0 will be ignored. Current value: lambda_l2=0.1\n",
      "[LightGBM] [Warning] lambda_l1 is set=0.1, reg_alpha=0.0 will be ignored. Current value: lambda_l1=0.1\n",
      "[LightGBM] [Info] [binary:BoostFromScore]: pavg=0.500000 -> initscore=0.000000\n",
      "Training until validation scores don't improve for 30 rounds\n",
      "[50]\tvalid_0's auc: 0.675895\n",
      "[100]\tvalid_0's auc: 0.682629\n",
      "[150]\tvalid_0's auc: 0.686326\n",
      "[LightGBM] [Warning] No further splits with positive gain, best gain: -inf\n",
      "[200]\tvalid_0's auc: 0.688143\n",
      "[250]\tvalid_0's auc: 0.68919\n",
      "[300]\tvalid_0's auc: 0.689512\n",
      "[LightGBM] [Warning] No further splits with positive gain, best gain: -inf\n",
      "[350]\tvalid_0's auc: 0.689943\n",
      "[LightGBM] [Warning] No further splits with positive gain, best gain: -inf\n",
      "[400]\tvalid_0's auc: 0.690211\n",
      "[LightGBM] [Warning] No further splits with positive gain, best gain: -inf\n",
      "[LightGBM] [Warning] No further splits with positive gain, best gain: -inf\n",
      "[LightGBM] [Warning] No further splits with positive gain, best gain: -inf\n",
      "[450]\tvalid_0's auc: 0.690321\n",
      "Early stopping, best iteration is:\n",
      "[429]\tvalid_0's auc: 0.690475\n",
      "[LightGBM] [Warning] lambda_l2 is set=0.1, reg_lambda=0.0 will be ignored. Current value: lambda_l2=0.1\n",
      "[LightGBM] [Warning] lambda_l1 is set=0.1, reg_alpha=0.0 will be ignored. Current value: lambda_l1=0.1\n",
      "[LightGBM] [Warning] lambda_l2 is set=0.1, reg_lambda=0.0 will be ignored. Current value: lambda_l2=0.1\n",
      "[LightGBM] [Warning] lambda_l1 is set=0.1, reg_alpha=0.0 will be ignored. Current value: lambda_l1=0.1\n",
      "[LightGBM] [Warning] lambda_l2 is set=0.1, reg_lambda=0.0 will be ignored. Current value: lambda_l2=0.1\n",
      "[LightGBM] [Warning] lambda_l1 is set=0.1, reg_alpha=0.0 will be ignored. Current value: lambda_l1=0.1\n",
      "[LightGBM] [Info] Number of positive: 40420, number of negative: 40420\n",
      "[LightGBM] [Info] Auto-choosing row-wise multi-threading, the overhead of testing was 0.017143 seconds.\n",
      "You can set `force_row_wise=true` to remove the overhead.\n",
      "And if memory is not enough, you can set `force_col_wise=true`.\n",
      "[LightGBM] [Info] Total Bins 7145\n",
      "[LightGBM] [Info] Number of data points in the train set: 80840, number of used features: 71\n",
      "[LightGBM] [Warning] lambda_l2 is set=0.1, reg_lambda=0.0 will be ignored. Current value: lambda_l2=0.1\n",
      "[LightGBM] [Warning] lambda_l1 is set=0.1, reg_alpha=0.0 will be ignored. Current value: lambda_l1=0.1\n",
      "[LightGBM] [Info] [binary:BoostFromScore]: pavg=0.500000 -> initscore=0.000000\n",
      "Training until validation scores don't improve for 30 rounds\n",
      "[50]\tvalid_0's auc: 0.663985\n",
      "[100]\tvalid_0's auc: 0.671888\n",
      "[150]\tvalid_0's auc: 0.677074\n",
      "[200]\tvalid_0's auc: 0.679234\n",
      "[250]\tvalid_0's auc: 0.680433\n",
      "[300]\tvalid_0's auc: 0.68114\n",
      "[350]\tvalid_0's auc: 0.681835\n",
      "[LightGBM] [Warning] No further splits with positive gain, best gain: -inf\n",
      "[400]\tvalid_0's auc: 0.682273\n",
      "[450]\tvalid_0's auc: 0.68239\n",
      "[LightGBM] [Warning] No further splits with positive gain, best gain: -inf\n",
      "[500]\tvalid_0's auc: 0.682693\n",
      "[LightGBM] [Warning] No further splits with positive gain, best gain: -inf\n",
      "[550]\tvalid_0's auc: 0.682752\n",
      "Early stopping, best iteration is:\n",
      "[543]\tvalid_0's auc: 0.682815\n",
      "[LightGBM] [Warning] lambda_l2 is set=0.1, reg_lambda=0.0 will be ignored. Current value: lambda_l2=0.1\n",
      "[LightGBM] [Warning] lambda_l1 is set=0.1, reg_alpha=0.0 will be ignored. Current value: lambda_l1=0.1\n",
      "[LightGBM] [Warning] lambda_l2 is set=0.1, reg_lambda=0.0 will be ignored. Current value: lambda_l2=0.1\n",
      "[LightGBM] [Warning] lambda_l1 is set=0.1, reg_alpha=0.0 will be ignored. Current value: lambda_l1=0.1\n",
      "[LightGBM] [Warning] lambda_l2 is set=0.1, reg_lambda=0.0 will be ignored. Current value: lambda_l2=0.1\n",
      "[LightGBM] [Warning] lambda_l1 is set=0.1, reg_alpha=0.0 will be ignored. Current value: lambda_l1=0.1\n",
      "[LightGBM] [Info] Number of positive: 40420, number of negative: 40420\n",
      "[LightGBM] [Info] Auto-choosing row-wise multi-threading, the overhead of testing was 0.016832 seconds.\n",
      "You can set `force_row_wise=true` to remove the overhead.\n",
      "And if memory is not enough, you can set `force_col_wise=true`.\n",
      "[LightGBM] [Info] Total Bins 7140\n",
      "[LightGBM] [Info] Number of data points in the train set: 80840, number of used features: 71\n",
      "[LightGBM] [Warning] lambda_l2 is set=0.1, reg_lambda=0.0 will be ignored. Current value: lambda_l2=0.1\n",
      "[LightGBM] [Warning] lambda_l1 is set=0.1, reg_alpha=0.0 will be ignored. Current value: lambda_l1=0.1\n",
      "[LightGBM] [Info] [binary:BoostFromScore]: pavg=0.500000 -> initscore=0.000000\n",
      "Training until validation scores don't improve for 30 rounds\n",
      "[50]\tvalid_0's auc: 0.675093\n",
      "[100]\tvalid_0's auc: 0.681832\n",
      "[150]\tvalid_0's auc: 0.686231\n",
      "[200]\tvalid_0's auc: 0.688406\n",
      "[250]\tvalid_0's auc: 0.689718\n",
      "[300]\tvalid_0's auc: 0.690563\n",
      "[350]\tvalid_0's auc: 0.691079\n",
      "[400]\tvalid_0's auc: 0.6914\n",
      "[LightGBM] [Warning] No further splits with positive gain, best gain: -inf\n",
      "[450]\tvalid_0's auc: 0.691864\n",
      "Early stopping, best iteration is:\n",
      "[439]\tvalid_0's auc: 0.691953\n",
      "[LightGBM] [Warning] lambda_l2 is set=0.1, reg_lambda=0.0 will be ignored. Current value: lambda_l2=0.1\n",
      "[LightGBM] [Warning] lambda_l1 is set=0.1, reg_alpha=0.0 will be ignored. Current value: lambda_l1=0.1\n",
      "[LightGBM] [Warning] lambda_l2 is set=0.1, reg_lambda=0.0 will be ignored. Current value: lambda_l2=0.1\n",
      "[LightGBM] [Warning] lambda_l1 is set=0.1, reg_alpha=0.0 will be ignored. Current value: lambda_l1=0.1\n",
      "[LightGBM] [Warning] lambda_l2 is set=0.1, reg_lambda=0.0 will be ignored. Current value: lambda_l2=0.1\n",
      "[LightGBM] [Warning] lambda_l1 is set=0.1, reg_alpha=0.0 will be ignored. Current value: lambda_l1=0.1\n",
      "[LightGBM] [Info] Number of positive: 40420, number of negative: 40420\n",
      "[LightGBM] [Info] Auto-choosing row-wise multi-threading, the overhead of testing was 0.018862 seconds.\n",
      "You can set `force_row_wise=true` to remove the overhead.\n",
      "And if memory is not enough, you can set `force_col_wise=true`.\n",
      "[LightGBM] [Info] Total Bins 7172\n",
      "[LightGBM] [Info] Number of data points in the train set: 80840, number of used features: 70\n",
      "[LightGBM] [Warning] lambda_l2 is set=0.1, reg_lambda=0.0 will be ignored. Current value: lambda_l2=0.1\n",
      "[LightGBM] [Warning] lambda_l1 is set=0.1, reg_alpha=0.0 will be ignored. Current value: lambda_l1=0.1\n",
      "[LightGBM] [Info] [binary:BoostFromScore]: pavg=0.500000 -> initscore=0.000000\n",
      "Training until validation scores don't improve for 30 rounds\n",
      "[50]\tvalid_0's auc: 0.670992\n",
      "[100]\tvalid_0's auc: 0.679808\n",
      "[150]\tvalid_0's auc: 0.683623\n",
      "[200]\tvalid_0's auc: 0.685487\n",
      "[250]\tvalid_0's auc: 0.686608\n",
      "[300]\tvalid_0's auc: 0.687182\n",
      "[350]\tvalid_0's auc: 0.687772\n",
      "[400]\tvalid_0's auc: 0.687878\n",
      "[450]\tvalid_0's auc: 0.688122\n",
      "Early stopping, best iteration is:\n",
      "[433]\tvalid_0's auc: 0.688222\n",
      "[LightGBM] [Warning] lambda_l2 is set=0.1, reg_lambda=0.0 will be ignored. Current value: lambda_l2=0.1\n",
      "[LightGBM] [Warning] lambda_l1 is set=0.1, reg_alpha=0.0 will be ignored. Current value: lambda_l1=0.1\n",
      "[LightGBM] [Warning] lambda_l2 is set=0.1, reg_lambda=0.0 will be ignored. Current value: lambda_l2=0.1\n",
      "[LightGBM] [Warning] lambda_l1 is set=0.1, reg_alpha=0.0 will be ignored. Current value: lambda_l1=0.1\n",
      "[LightGBM] [Warning] lambda_l2 is set=0.1, reg_lambda=0.0 will be ignored. Current value: lambda_l2=0.1\n",
      "[LightGBM] [Warning] lambda_l1 is set=0.1, reg_alpha=0.0 will be ignored. Current value: lambda_l1=0.1\n",
      "[LightGBM] [Info] Number of positive: 40420, number of negative: 40420\n",
      "[LightGBM] [Info] Auto-choosing row-wise multi-threading, the overhead of testing was 0.017997 seconds.\n",
      "You can set `force_row_wise=true` to remove the overhead.\n",
      "And if memory is not enough, you can set `force_col_wise=true`.\n",
      "[LightGBM] [Info] Total Bins 7143\n",
      "[LightGBM] [Info] Number of data points in the train set: 80840, number of used features: 71\n",
      "[LightGBM] [Warning] lambda_l2 is set=0.1, reg_lambda=0.0 will be ignored. Current value: lambda_l2=0.1\n",
      "[LightGBM] [Warning] lambda_l1 is set=0.1, reg_alpha=0.0 will be ignored. Current value: lambda_l1=0.1\n",
      "[LightGBM] [Info] [binary:BoostFromScore]: pavg=0.500000 -> initscore=0.000000\n",
      "Training until validation scores don't improve for 30 rounds\n",
      "[50]\tvalid_0's auc: 0.668385\n",
      "[100]\tvalid_0's auc: 0.676681\n",
      "[150]\tvalid_0's auc: 0.681544\n",
      "[200]\tvalid_0's auc: 0.683915\n",
      "[250]\tvalid_0's auc: 0.685185\n",
      "[300]\tvalid_0's auc: 0.686171\n",
      "[350]\tvalid_0's auc: 0.686665\n",
      "[400]\tvalid_0's auc: 0.687097\n",
      "[LightGBM] [Warning] No further splits with positive gain, best gain: -inf\n",
      "[450]\tvalid_0's auc: 0.687344\n",
      "[LightGBM] [Warning] No further splits with positive gain, best gain: -inf\n",
      "[500]\tvalid_0's auc: 0.687243\n",
      "Early stopping, best iteration is:\n",
      "[473]\tvalid_0's auc: 0.687448\n",
      "[LightGBM] [Warning] lambda_l2 is set=0.1, reg_lambda=0.0 will be ignored. Current value: lambda_l2=0.1\n",
      "[LightGBM] [Warning] lambda_l1 is set=0.1, reg_alpha=0.0 will be ignored. Current value: lambda_l1=0.1\n",
      "Mean Validation ROC AUC: 0.6882\n",
      "[LightGBM] [Warning] lambda_l2 is set=0.1, reg_lambda=0.0 will be ignored. Current value: lambda_l2=0.1\n",
      "[LightGBM] [Warning] lambda_l1 is set=0.1, reg_alpha=0.0 will be ignored. Current value: lambda_l1=0.1\n",
      "[LightGBM] [Warning] lambda_l2 is set=0.1, reg_lambda=0.0 will be ignored. Current value: lambda_l2=0.1\n",
      "[LightGBM] [Warning] lambda_l1 is set=0.1, reg_alpha=0.0 will be ignored. Current value: lambda_l1=0.1\n",
      "[LightGBM] [Info] Number of positive: 50525, number of negative: 50525\n",
      "[LightGBM] [Info] Auto-choosing row-wise multi-threading, the overhead of testing was 0.020404 seconds.\n",
      "You can set `force_row_wise=true` to remove the overhead.\n",
      "And if memory is not enough, you can set `force_col_wise=true`.\n",
      "[LightGBM] [Info] Total Bins 7447\n",
      "[LightGBM] [Info] Number of data points in the train set: 101050, number of used features: 71\n",
      "[LightGBM] [Info] [binary:BoostFromScore]: pavg=0.500000 -> initscore=0.000000\n",
      "[LightGBM] [Warning] No further splits with positive gain, best gain: -inf\n",
      "[LightGBM] [Warning] lambda_l2 is set=0.1, reg_lambda=0.0 will be ignored. Current value: lambda_l2=0.1\n",
      "[LightGBM] [Warning] lambda_l1 is set=0.1, reg_alpha=0.0 will be ignored. Current value: lambda_l1=0.1\n",
      "Submission file created successfully!\n",
      "Model saved as lgb_model.pkl!\n"
     ]
    }
   ],
   "source": [
    "# Import necessary libraries\n",
    "import pandas as pd\n",
    "import numpy as np\n",
    "import seaborn as sns\n",
    "import matplotlib.pyplot as plt\n",
    "import lightgbm as lgb\n",
    "import pickle\n",
    "import plotly.express as px\n",
    "from sklearn.model_selection import train_test_split, StratifiedKFold\n",
    "from sklearn.preprocessing import StandardScaler, LabelEncoder\n",
    "from sklearn.impute import SimpleImputer\n",
    "from sklearn.metrics import accuracy_score, roc_auc_score, classification_report\n",
    "from imblearn.over_sampling import SMOTE\n",
    "\n",
    "# Load Data\n",
    "x_train = pd.read_csv(\"/kaggle/input/System-Threat-Forecaster/train.csv\")\n",
    "x_test = pd.read_csv(\"/kaggle/input/System-Threat-Forecaster/test.csv\")\n",
    "\n",
    "# Separate features and target variable\n",
    "X = x_train.drop([\"target\", \"MachineID\"], axis=1)\n",
    "y = x_train[\"target\"]\n",
    "X_test = x_test.drop(\"MachineID\", axis=1)\n",
    "\n",
    "# Combine for preprocessing\n",
    "combined_data = pd.concat([X, X_test], ignore_index=True)\n",
    "\n",
    "# Identify categorical and numerical features\n",
    "categorical_cols = combined_data.select_dtypes(include=['object']).columns\n",
    "numerical_cols = combined_data.select_dtypes(include=['number']).columns\n",
    "\n",
    "# Handle missing values\n",
    "num_imputer = SimpleImputer(strategy='median')\n",
    "cat_imputer = SimpleImputer(strategy='most_frequent')\n",
    "combined_data[numerical_cols] = num_imputer.fit_transform(combined_data[numerical_cols])\n",
    "combined_data[categorical_cols] = cat_imputer.fit_transform(combined_data[categorical_cols])\n",
    "\n",
    "# Encode categorical variables\n",
    "label_encoder = LabelEncoder()\n",
    "for col in categorical_cols:\n",
    "    combined_data[col] = label_encoder.fit_transform(combined_data[col])\n",
    "\n",
    "# Remove duplicate columns if any\n",
    "combined_data = combined_data.loc[:, ~combined_data.columns.duplicated()]\n",
    "\n",
    "# Scale numerical features\n",
    "scaler = StandardScaler()\n",
    "combined_data[numerical_cols] = scaler.fit_transform(combined_data[numerical_cols])\n",
    "\n",
    "# Separate processed train & test data\n",
    "X_train_processed = combined_data[:len(X)]\n",
    "X_test_processed = combined_data[len(X):]\n",
    "\n",
    "# Handle class imbalance using SMOTE (only on training data)\n",
    "smote = SMOTE(sampling_strategy='auto', random_state=42)\n",
    "X_train_resampled, y_resampled = smote.fit_resample(X_train_processed, y)\n",
    "\n",
    "# Optimized LightGBM Hyperparameters\n",
    "params = {\n",
    "    'objective': 'binary',\n",
    "    'metric': 'auc',\n",
    "    'boosting_type': 'gbdt',\n",
    "    'num_leaves': 50,  \n",
    "    'learning_rate': 0.03,  \n",
    "    'n_estimators': 1000,  \n",
    "    'max_depth': 10,  \n",
    "    'subsample': 0.8,\n",
    "    'colsample_bytree': 0.8,\n",
    "    'lambda_l1': 0.1,\n",
    "    'lambda_l2': 0.1,\n",
    "    'random_state': 42\n",
    "}\n",
    "\n",
    "lgb_model = lgb.LGBMClassifier(**params)\n",
    "kfold = StratifiedKFold(n_splits=5, shuffle=True, random_state=42)\n",
    "\n",
    "auc_scores = []\n",
    "for train_idx, val_idx in kfold.split(X_train_resampled, y_resampled):\n",
    "    X_train_fold, X_val_fold = X_train_resampled.iloc[train_idx], X_train_resampled.iloc[val_idx]\n",
    "    y_train_fold, y_val_fold = y_resampled.iloc[train_idx], y_resampled.iloc[val_idx]\n",
    "    \n",
    "    lgb_model.fit(\n",
    "        X_train_fold, y_train_fold, \n",
    "        eval_set=[(X_val_fold, y_val_fold)], \n",
    "        eval_metric='auc',\n",
    "        callbacks=[lgb.early_stopping(30), lgb.log_evaluation(50)] \n",
    "    )\n",
    "\n",
    "    y_val_pred_prob = lgb_model.predict_proba(X_val_fold)[:, 1]\n",
    "    auc = roc_auc_score(y_val_fold, y_val_pred_prob)\n",
    "    auc_scores.append(auc)\n",
    "\n",
    "print(f\"Mean Validation ROC AUC: {np.mean(auc_scores):.4f}\")\n",
    "\n",
    "# Final Training on Full Resampled Data\n",
    "lgb_model.fit(X_train_resampled, y_resampled)\n",
    "\n",
    "# Predict on test data\n",
    "y_pred_prob = lgb_model.predict_proba(X_test_processed)[:, 1]\n",
    "y_pred = (y_pred_prob > 0.5).astype(int)\n",
    "\n",
    "# Create submission file\n",
    "submission = pd.DataFrame({\"id\": range(len(y_pred)), \"target\": y_pred})\n",
    "submission.to_csv('submission.csv', index=False)\n",
    "print(\"Submission file created successfully!\")\n",
    "\n",
    "# Save Model\n",
    "with open(\"lgb_model.pkl\", \"wb\") as f:\n",
    "    pickle.dump(lgb_model, f)\n",
    "\n",
    "print(\"Model saved as lgb_model.pkl!\")\n"
   ]
  },
  {
   "cell_type": "code",
   "execution_count": 48,
   "id": "e8c7c4c4",
   "metadata": {
    "execution": {
     "iopub.execute_input": "2025-03-12T17:42:56.672147Z",
     "iopub.status.busy": "2025-03-12T17:42:56.671746Z",
     "iopub.status.idle": "2025-03-12T17:45:01.409743Z",
     "shell.execute_reply": "2025-03-12T17:45:01.407764Z"
    },
    "papermill": {
     "duration": 124.764317,
     "end_time": "2025-03-12T17:45:01.412373",
     "exception": false,
     "start_time": "2025-03-12T17:42:56.648056",
     "status": "completed"
    },
    "tags": []
   },
   "outputs": [
    {
     "name": "stdout",
     "output_type": "stream",
     "text": [
      "[LightGBM] [Info] Number of positive: 40420, number of negative: 40420\n",
      "[LightGBM] [Info] Auto-choosing row-wise multi-threading, the overhead of testing was 0.017555 seconds.\n",
      "You can set `force_row_wise=true` to remove the overhead.\n",
      "And if memory is not enough, you can set `force_col_wise=true`.\n",
      "[LightGBM] [Info] Total Bins 8516\n",
      "[LightGBM] [Info] Number of data points in the train set: 80840, number of used features: 71\n",
      "[LightGBM] [Info] [binary:BoostFromScore]: pavg=0.500000 -> initscore=0.000000\n",
      "Training until validation scores don't improve for 50 rounds\n",
      "[50]\tvalid_0's auc: 0.676544\n",
      "[100]\tvalid_0's auc: 0.681737\n",
      "[150]\tvalid_0's auc: 0.685445\n",
      "[200]\tvalid_0's auc: 0.688046\n",
      "[250]\tvalid_0's auc: 0.689664\n",
      "[300]\tvalid_0's auc: 0.69018\n",
      "[350]\tvalid_0's auc: 0.690764\n",
      "[400]\tvalid_0's auc: 0.690924\n",
      "[450]\tvalid_0's auc: 0.691104\n",
      "[500]\tvalid_0's auc: 0.691386\n",
      "[550]\tvalid_0's auc: 0.691259\n",
      "Early stopping, best iteration is:\n",
      "[513]\tvalid_0's auc: 0.69154\n",
      "[LightGBM] [Info] Number of positive: 40420, number of negative: 40420\n",
      "[LightGBM] [Info] Auto-choosing row-wise multi-threading, the overhead of testing was 0.024892 seconds.\n",
      "You can set `force_row_wise=true` to remove the overhead.\n",
      "And if memory is not enough, you can set `force_col_wise=true`.\n",
      "[LightGBM] [Info] Total Bins 8539\n",
      "[LightGBM] [Info] Number of data points in the train set: 80840, number of used features: 71\n",
      "[LightGBM] [Info] [binary:BoostFromScore]: pavg=0.500000 -> initscore=0.000000\n",
      "Training until validation scores don't improve for 50 rounds\n",
      "[50]\tvalid_0's auc: 0.664474\n",
      "[100]\tvalid_0's auc: 0.670253\n",
      "[150]\tvalid_0's auc: 0.674671\n",
      "[200]\tvalid_0's auc: 0.677257\n",
      "[250]\tvalid_0's auc: 0.67909\n",
      "[300]\tvalid_0's auc: 0.680337\n",
      "[350]\tvalid_0's auc: 0.681055\n",
      "[400]\tvalid_0's auc: 0.681414\n",
      "[450]\tvalid_0's auc: 0.68171\n",
      "[500]\tvalid_0's auc: 0.682174\n",
      "[550]\tvalid_0's auc: 0.682345\n",
      "[600]\tvalid_0's auc: 0.682503\n",
      "[650]\tvalid_0's auc: 0.68272\n",
      "[700]\tvalid_0's auc: 0.683007\n",
      "[750]\tvalid_0's auc: 0.683221\n",
      "Early stopping, best iteration is:\n",
      "[720]\tvalid_0's auc: 0.683261\n",
      "[LightGBM] [Info] Number of positive: 40420, number of negative: 40420\n",
      "[LightGBM] [Info] Auto-choosing row-wise multi-threading, the overhead of testing was 0.018295 seconds.\n",
      "You can set `force_row_wise=true` to remove the overhead.\n",
      "And if memory is not enough, you can set `force_col_wise=true`.\n",
      "[LightGBM] [Info] Total Bins 8505\n",
      "[LightGBM] [Info] Number of data points in the train set: 80840, number of used features: 71\n",
      "[LightGBM] [Info] [binary:BoostFromScore]: pavg=0.500000 -> initscore=0.000000\n",
      "Training until validation scores don't improve for 50 rounds\n",
      "[50]\tvalid_0's auc: 0.674349\n",
      "[100]\tvalid_0's auc: 0.679752\n",
      "[150]\tvalid_0's auc: 0.682939\n",
      "[200]\tvalid_0's auc: 0.686329\n",
      "[250]\tvalid_0's auc: 0.688746\n",
      "[300]\tvalid_0's auc: 0.689738\n",
      "[350]\tvalid_0's auc: 0.690898\n",
      "[400]\tvalid_0's auc: 0.691243\n",
      "[450]\tvalid_0's auc: 0.691735\n",
      "[500]\tvalid_0's auc: 0.691884\n",
      "[550]\tvalid_0's auc: 0.692324\n",
      "[600]\tvalid_0's auc: 0.692661\n",
      "[650]\tvalid_0's auc: 0.692614\n",
      "Early stopping, best iteration is:\n",
      "[631]\tvalid_0's auc: 0.692834\n",
      "[LightGBM] [Info] Number of positive: 40420, number of negative: 40420\n",
      "[LightGBM] [Info] Auto-choosing row-wise multi-threading, the overhead of testing was 0.018761 seconds.\n",
      "You can set `force_row_wise=true` to remove the overhead.\n",
      "And if memory is not enough, you can set `force_col_wise=true`.\n",
      "[LightGBM] [Info] Total Bins 8550\n",
      "[LightGBM] [Info] Number of data points in the train set: 80840, number of used features: 71\n",
      "[LightGBM] [Info] [binary:BoostFromScore]: pavg=0.500000 -> initscore=0.000000\n",
      "Training until validation scores don't improve for 50 rounds\n",
      "[50]\tvalid_0's auc: 0.67127\n",
      "[100]\tvalid_0's auc: 0.678111\n",
      "[150]\tvalid_0's auc: 0.681813\n",
      "[200]\tvalid_0's auc: 0.684797\n",
      "[250]\tvalid_0's auc: 0.686348\n",
      "[300]\tvalid_0's auc: 0.687386\n",
      "[350]\tvalid_0's auc: 0.688214\n",
      "[400]\tvalid_0's auc: 0.688644\n",
      "[450]\tvalid_0's auc: 0.688804\n",
      "[500]\tvalid_0's auc: 0.68892\n",
      "Early stopping, best iteration is:\n",
      "[489]\tvalid_0's auc: 0.68903\n",
      "[LightGBM] [Info] Number of positive: 40420, number of negative: 40420\n",
      "[LightGBM] [Info] Auto-choosing row-wise multi-threading, the overhead of testing was 0.016794 seconds.\n",
      "You can set `force_row_wise=true` to remove the overhead.\n",
      "And if memory is not enough, you can set `force_col_wise=true`.\n",
      "[LightGBM] [Info] Total Bins 8507\n",
      "[LightGBM] [Info] Number of data points in the train set: 80840, number of used features: 71\n",
      "[LightGBM] [Info] [binary:BoostFromScore]: pavg=0.500000 -> initscore=0.000000\n",
      "Training until validation scores don't improve for 50 rounds\n",
      "[50]\tvalid_0's auc: 0.668767\n",
      "[100]\tvalid_0's auc: 0.675669\n",
      "[150]\tvalid_0's auc: 0.679889\n",
      "[200]\tvalid_0's auc: 0.682902\n",
      "[250]\tvalid_0's auc: 0.684735\n",
      "[300]\tvalid_0's auc: 0.686476\n",
      "[350]\tvalid_0's auc: 0.686982\n",
      "[400]\tvalid_0's auc: 0.687542\n",
      "[450]\tvalid_0's auc: 0.688131\n",
      "[500]\tvalid_0's auc: 0.688171\n",
      "[550]\tvalid_0's auc: 0.688347\n",
      "[600]\tvalid_0's auc: 0.688853\n",
      "[650]\tvalid_0's auc: 0.688848\n",
      "[700]\tvalid_0's auc: 0.688848\n",
      "Early stopping, best iteration is:\n",
      "[674]\tvalid_0's auc: 0.688969\n",
      "Mean Validation ROC AUC: 0.6891\n",
      "[LightGBM] [Info] Number of positive: 50525, number of negative: 50525\n",
      "[LightGBM] [Info] Auto-choosing row-wise multi-threading, the overhead of testing was 0.032511 seconds.\n",
      "You can set `force_row_wise=true` to remove the overhead.\n",
      "And if memory is not enough, you can set `force_col_wise=true`.\n",
      "[LightGBM] [Info] Total Bins 8685\n",
      "[LightGBM] [Info] Number of data points in the train set: 101050, number of used features: 73\n",
      "[LightGBM] [Info] [binary:BoostFromScore]: pavg=0.500000 -> initscore=0.000000\n",
      "Submission file created successfully!\n",
      "Model saved as lgb_model.pkl!\n"
     ]
    }
   ],
   "source": [
    "# Import necessary libraries\n",
    "import pandas as pd\n",
    "import numpy as np\n",
    "import lightgbm as lgb\n",
    "import pickle\n",
    "from sklearn.model_selection import StratifiedKFold\n",
    "from sklearn.preprocessing import StandardScaler, LabelEncoder\n",
    "from sklearn.impute import SimpleImputer\n",
    "from sklearn.metrics import roc_auc_score\n",
    "from imblearn.over_sampling import SMOTE\n",
    "\n",
    "# Load Data\n",
    "x_train = pd.read_csv(\"/kaggle/input/System-Threat-Forecaster/train.csv\")\n",
    "x_test = pd.read_csv(\"/kaggle/input/System-Threat-Forecaster/test.csv\")\n",
    "\n",
    "# Separate features and target variable\n",
    "X = x_train.drop([\"target\", \"MachineID\"], axis=1)\n",
    "y = x_train[\"target\"]\n",
    "X_test = x_test.drop(\"MachineID\", axis=1)\n",
    "\n",
    "# Combine for preprocessing\n",
    "combined_data = pd.concat([X, X_test], ignore_index=True)\n",
    "\n",
    "# Identify categorical and numerical features\n",
    "categorical_cols = combined_data.select_dtypes(include=['object']).columns\n",
    "numerical_cols = combined_data.select_dtypes(include=['number']).columns\n",
    "\n",
    "# Handle missing values\n",
    "num_imputer = SimpleImputer(strategy='median')\n",
    "cat_imputer = SimpleImputer(strategy='most_frequent')\n",
    "combined_data[numerical_cols] = num_imputer.fit_transform(combined_data[numerical_cols])\n",
    "combined_data[categorical_cols] = cat_imputer.fit_transform(combined_data[categorical_cols])\n",
    "\n",
    "# Encode categorical variables\n",
    "label_encoder = LabelEncoder()\n",
    "for col in categorical_cols:\n",
    "    combined_data[col] = label_encoder.fit_transform(combined_data[col])\n",
    "\n",
    "# Feature Engineering - Create interaction terms\n",
    "combined_data[\"feature_sum\"] = combined_data[numerical_cols].sum(axis=1)\n",
    "combined_data[\"feature_mean\"] = combined_data[numerical_cols].mean(axis=1)\n",
    "combined_data[\"feature_std\"] = combined_data[numerical_cols].std(axis=1)\n",
    "\n",
    "# Remove duplicate columns if any\n",
    "combined_data = combined_data.loc[:, ~combined_data.columns.duplicated()]\n",
    "\n",
    "# Scale numerical features\n",
    "scaler = StandardScaler()\n",
    "combined_data[numerical_cols] = scaler.fit_transform(combined_data[numerical_cols])\n",
    "\n",
    "# Separate processed train & test data\n",
    "X_train_processed = combined_data[:len(X)]\n",
    "X_test_processed = combined_data[len(X):]\n",
    "\n",
    "# Handle class imbalance using SMOTE\n",
    "smote = SMOTE(sampling_strategy='auto', random_state=42)\n",
    "X_train_resampled, y_resampled = smote.fit_resample(X_train_processed, y)\n",
    "\n",
    "# Improved LightGBM Hyperparameters\n",
    "params = {\n",
    "    'objective': 'binary',\n",
    "    'metric': 'auc',\n",
    "    'boosting_type': 'gbdt',\n",
    "    'num_leaves': 70,  \n",
    "    'learning_rate': 0.02,  \n",
    "    'n_estimators': 1500,  \n",
    "    'max_depth': -1, \n",
    "    'subsample': 0.7,\n",
    "    'colsample_bytree': 0.8,\n",
    "    'reg_alpha': 0.5,  # L1 regularization \n",
    "    'reg_lambda': 0.5,  # L2 regularization\n",
    "    'min_child_samples': 50,  \n",
    "    'subsample_freq': 1,\n",
    "    'random_state': 42\n",
    "}\n",
    "\n",
    "lgb_model = lgb.LGBMClassifier(**params)\n",
    "kfold = StratifiedKFold(n_splits=5, shuffle=True, random_state=42)\n",
    "\n",
    "auc_scores = []\n",
    "for train_idx, val_idx in kfold.split(X_train_resampled, y_resampled):\n",
    "    X_train_fold, X_val_fold = X_train_resampled.iloc[train_idx], X_train_resampled.iloc[val_idx]\n",
    "    y_train_fold, y_val_fold = y_resampled.iloc[train_idx], y_resampled.iloc[val_idx]\n",
    "    \n",
    "    lgb_model.fit(\n",
    "        X_train_fold, y_train_fold, \n",
    "        eval_set=[(X_val_fold, y_val_fold)], \n",
    "        eval_metric='auc',\n",
    "        callbacks=[lgb.early_stopping(50), lgb.log_evaluation(50)] \n",
    "    )\n",
    "\n",
    "    y_val_pred_prob = lgb_model.predict_proba(X_val_fold)[:, 1]\n",
    "    auc = roc_auc_score(y_val_fold, y_val_pred_prob)\n",
    "    auc_scores.append(auc)\n",
    "\n",
    "print(f\"Mean Validation ROC AUC: {np.mean(auc_scores):.4f}\")\n",
    "\n",
    "# Final Training on Full Resampled Data\n",
    "lgb_model.fit(X_train_resampled, y_resampled)\n",
    "\n",
    "# Predict on test data\n",
    "y_pred_prob = lgb_model.predict_proba(X_test_processed)[:, 1]\n",
    "y_pred = (y_pred_prob > 0.5).astype(int)\n",
    "\n",
    "# Create submission file\n",
    "submission = pd.DataFrame({\"id\": range(len(y_pred)), \"target\": y_pred})\n",
    "submission.to_csv('submission.csv', index=False)\n",
    "print(\"Submission file created successfully!\")\n",
    "\n",
    "# Save Model\n",
    "with open(\"lgb_model.pkl\", \"wb\") as f:\n",
    "    pickle.dump(lgb_model, f)\n",
    "\n",
    "print(\"Model saved as lgb_model.pkl!\")\n"
   ]
  }
 ],
 "metadata": {
  "kaggle": {
   "accelerator": "none",
   "dataSources": [
    {
     "databundleVersionId": 10592855,
     "sourceId": 90791,
     "sourceType": "competition"
    }
   ],
   "dockerImageVersionId": 30839,
   "isGpuEnabled": false,
   "isInternetEnabled": false,
   "language": "python",
   "sourceType": "notebook"
  },
  "kernelspec": {
   "display_name": "Python 3",
   "language": "python",
   "name": "python3"
  },
  "language_info": {
   "codemirror_mode": {
    "name": "ipython",
    "version": 3
   },
   "file_extension": ".py",
   "mimetype": "text/x-python",
   "name": "python",
   "nbconvert_exporter": "python",
   "pygments_lexer": "ipython3",
   "version": "3.10.12"
  },
  "papermill": {
   "default_parameters": {},
   "duration": 521.100147,
   "end_time": "2025-03-12T17:45:02.679099",
   "environment_variables": {},
   "exception": null,
   "input_path": "__notebook__.ipynb",
   "output_path": "__notebook__.ipynb",
   "parameters": {},
   "start_time": "2025-03-12T17:36:21.578952",
   "version": "2.6.0"
  }
 },
 "nbformat": 4,
 "nbformat_minor": 5
}
